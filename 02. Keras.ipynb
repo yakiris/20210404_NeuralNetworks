{
 "cells": [
  {
   "cell_type": "markdown",
   "metadata": {},
   "source": [
    "# Тема: Keras"
   ]
  },
  {
   "cell_type": "code",
   "execution_count": 1,
   "metadata": {},
   "outputs": [],
   "source": [
    "import numpy as np\n",
    "import pandas as pd\n",
    "import matplotlib.pyplot as plt\n",
    "\n",
    "from sklearn.metrics import confusion_matrix\n",
    "from sklearn.metrics import classification_report\n",
    "\n",
    "import keras\n",
    "from keras.layers import Dense\n",
    "from keras.models import Sequential\n",
    "from keras.utils import to_categorical\n",
    "from keras.datasets import fashion_mnist\n",
    "from keras.models import load_model\n",
    "\n",
    "import tensorflow as tf"
   ]
  },
  {
   "cell_type": "markdown",
   "metadata": {},
   "source": [
    "### Используем набор примеров fashion-MNIST"
   ]
  },
  {
   "cell_type": "code",
   "execution_count": 2,
   "metadata": {},
   "outputs": [
    {
     "name": "stdout",
     "output_type": "stream",
     "text": [
      "(60000, 28, 28) (10000, 28, 28)\n",
      "(60000,)\n"
     ]
    }
   ],
   "source": [
    "(X_train, y_train_labels), (X_test, y_test_labels) = fashion_mnist.load_data()\n",
    "\n",
    "print(X_train.shape, X_test.shape)\n",
    "print(y_train_labels.shape)"
   ]
  },
  {
   "cell_type": "code",
   "execution_count": 3,
   "metadata": {},
   "outputs": [
    {
     "data": {
      "image/png": "[encoded data removed]",
      "text/plain": [
       "<Figure size 1080x360 with 5 Axes>"
      ]
     },
     "metadata": {
      "needs_background": "light"
     },
     "output_type": "display_data"
    }
   ],
   "source": [
    "N = 5\n",
    "plt.figure(figsize=(3 * N, 5))\n",
    "\n",
    "for i in range(N):\n",
    "    plt.subplot(1, N, i+1)\n",
    "    plt.imshow(X_test[i,:].reshape(28, 28))\n",
    "    plt.xlabel(str(y_test_labels[i]))\n",
    "plt.show() "
   ]
  },
  {
   "cell_type": "code",
   "execution_count": 4,
   "metadata": {},
   "outputs": [
    {
     "data": {
      "text/plain": [
       "(0, 255)"
      ]
     },
     "execution_count": 4,
     "metadata": {},
     "output_type": "execute_result"
    }
   ],
   "source": [
    "X_train.min(), X_train.max()"
   ]
  },
  {
   "cell_type": "code",
   "execution_count": 5,
   "metadata": {},
   "outputs": [
    {
     "data": {
      "text/plain": [
       "(0.0, 1.0)"
      ]
     },
     "execution_count": 5,
     "metadata": {},
     "output_type": "execute_result"
    }
   ],
   "source": [
    "# Нормировка\n",
    "X_train = X_train / 255.0\n",
    "X_test = X_test / 255.0\n",
    "X_train.min(), X_train.max()"
   ]
  },
  {
   "cell_type": "code",
   "execution_count": 6,
   "metadata": {},
   "outputs": [
    {
     "data": {
      "text/plain": [
       "((60000, 784), (10000, 784))"
      ]
     },
     "execution_count": 6,
     "metadata": {},
     "output_type": "execute_result"
    }
   ],
   "source": [
    "# Вытягивание признаков\n",
    "X_train = X_train.reshape((-1, 28 * 28))\n",
    "X_test = X_test.reshape((-1, 28 * 28))\n",
    "\n",
    "X_train.shape, X_test.shape"
   ]
  },
  {
   "cell_type": "markdown",
   "metadata": {},
   "source": [
    "### 1. Опишите - какой результат нейросети получен в зависимости от:\n",
    "- числа нейронов в слое (для 2-х слойной сети),\n",
    "- числа слоев (2, 3, 5, 10) при близких размерах сети (близкое число тренируемых параметров).\n",
    "- фиксируйте для тренировочного и тестового набора метрики accuracy."
   ]
  },
  {
   "cell_type": "code",
   "execution_count": 7,
   "metadata": {},
   "outputs": [],
   "source": [
    "y_train = to_categorical(y_train_labels)\n",
    "y_test = to_categorical(y_test_labels)\n",
    "\n",
    "stats = pd.DataFrame(columns=['Модель', 'Нейроны', 'Train', 'Test'])\n",
    "\n",
    "best_metric = 0"
   ]
  },
  {
   "cell_type": "code",
   "execution_count": 8,
   "metadata": {},
   "outputs": [],
   "source": [
    "def model_two_layers(neuron):\n",
    "    \n",
    "    model = Sequential()\n",
    "    model.add(Dense(neuron[0], input_shape=(28 * 28,), activation='relu'),)\n",
    "    model.add(Dense(neuron[1], activation='sigmoid'))\n",
    "    \n",
    "    model.compile(loss='categorical_crossentropy', optimizer='SGD', metrics=['accuracy'])\n",
    "    \n",
    "    model.fit(X_train, y_train, epochs=5, batch_size=10, verbose=0)\n",
    "    \n",
    "    return model"
   ]
  },
  {
   "cell_type": "code",
   "execution_count": 9,
   "metadata": {},
   "outputs": [
    {
     "name": "stdout",
     "output_type": "stream",
     "text": [
      "6000/6000 [==============================] - 2s 308us/step - loss: 0.3577 - accuracy: 0.8731\n",
      "1000/1000 [==============================] - 0s 309us/step - loss: 0.4071 - accuracy: 0.8538\n",
      "6000/6000 [==============================] - 2s 323us/step - loss: 0.3390 - accuracy: 0.8813\n",
      "1000/1000 [==============================] - 0s 337us/step - loss: 0.3858 - accuracy: 0.8632\n",
      "6000/6000 [==============================] - 2s 348us/step - loss: 0.3478 - accuracy: 0.8760\n",
      "1000/1000 [==============================] - 0s 343us/step - loss: 0.3982 - accuracy: 0.8576\n"
     ]
    }
   ],
   "source": [
    "neurons = [[32, 10], [64, 10], [128, 10]]\n",
    "\n",
    "for neuron in neurons:\n",
    "    \n",
    "    model2 = model_two_layers(neuron)\n",
    "    \n",
    "    loss_train, metric_train = model2.evaluate(X_train, y_train, batch_size=10)\n",
    "    loss_test, metric_test = model2.evaluate(X_test, y_test, batch_size=10)\n",
    "    \n",
    "    new_row = {'Модель': '2 слоя', 'Нейроны': neuron, 'Train': metric_train, 'Test':metric_test}\n",
    "    \n",
    "    stats = stats.append(new_row, ignore_index=True)"
   ]
  },
  {
   "cell_type": "code",
   "execution_count": 10,
   "metadata": {},
   "outputs": [],
   "source": [
    "def model_three_layers(neuron):\n",
    "    \n",
    "    model = Sequential()\n",
    "    model.add(Dense(neuron[0], input_shape=(28 * 28,), activation='relu'))\n",
    "    model.add(Dense(neuron[1], activation='relu'))\n",
    "    model.add(Dense(neuron[2], activation='sigmoid'))\n",
    "    \n",
    "    model.compile(loss='categorical_crossentropy', optimizer='SGD', metrics=['accuracy'])\n",
    "    \n",
    "    model.fit(X_train, y_train, epochs=5, batch_size=10, verbose=0)\n",
    "    \n",
    "    return model"
   ]
  },
  {
   "cell_type": "code",
   "execution_count": 11,
   "metadata": {},
   "outputs": [
    {
     "name": "stdout",
     "output_type": "stream",
     "text": [
      "6000/6000 [==============================] - 2s 310us/step - loss: 0.3457 - accuracy: 0.8761\n",
      "1000/1000 [==============================] - 0s 308us/step - loss: 0.3979 - accuracy: 0.8568\n",
      "6000/6000 [==============================] - 2s 336us/step - loss: 0.3305 - accuracy: 0.8800\n",
      "1000/1000 [==============================] - 0s 307us/step - loss: 0.3841 - accuracy: 0.8608\n",
      "6000/6000 [==============================] - 2s 344us/step - loss: 0.3264 - accuracy: 0.8815\n",
      "1000/1000 [==============================] - 0s 316us/step - loss: 0.3874 - accuracy: 0.8625\n"
     ]
    }
   ],
   "source": [
    "neurons = [[32, 16, 10], [64, 32, 10], [128, 64, 10]]\n",
    "\n",
    "for neuron in neurons:\n",
    "    \n",
    "    model3 = model_three_layers(neuron)\n",
    "    \n",
    "    loss_train, metric_train = model3.evaluate(X_train, y_train, batch_size=10)\n",
    "    loss_test, metric_test = model3.evaluate(X_test, y_test, batch_size=10)\n",
    "    \n",
    "    if metric_test > best_metric:\n",
    "        \n",
    "        best_metric = metric_test\n",
    "        model3.save('models/02_dz_best_model.h5')\n",
    "        \n",
    "    new_row = {'Модель': '3 слоя', 'Нейроны': neuron, 'Train': metric_train, 'Test':metric_test}\n",
    "    \n",
    "    stats = stats.append(new_row, ignore_index=True)"
   ]
  },
  {
   "cell_type": "code",
   "execution_count": 12,
   "metadata": {},
   "outputs": [],
   "source": [
    "def model_five_layers(neuron):\n",
    "    \n",
    "    model = Sequential()\n",
    "    model.add(Dense(neuron[0], input_shape=(28 * 28,), activation='relu'))\n",
    "    model.add(Dense(neuron[1], activation='relu'))\n",
    "    model.add(Dense(neuron[2], activation='relu'))\n",
    "    model.add(Dense(neuron[3], activation='relu'))\n",
    "    model.add(Dense(neuron[4], activation='sigmoid'))\n",
    "    \n",
    "    model.compile(loss='categorical_crossentropy', optimizer='SGD', metrics=['accuracy'])\n",
    "    \n",
    "    model.fit(X_train, y_train, epochs=5, batch_size=10, verbose=0)\n",
    "    \n",
    "    return model"
   ]
  },
  {
   "cell_type": "code",
   "execution_count": 13,
   "metadata": {},
   "outputs": [
    {
     "name": "stdout",
     "output_type": "stream",
     "text": [
      "6000/6000 [==============================] - 2s 325us/step - loss: 0.3443 - accuracy: 0.8755\n",
      "1000/1000 [==============================] - 0s 325us/step - loss: 0.4077 - accuracy: 0.8552\n",
      "6000/6000 [==============================] - 2s 331us/step - loss: 0.3393 - accuracy: 0.8743\n",
      "1000/1000 [==============================] - 0s 340us/step - loss: 0.4033 - accuracy: 0.8547\n",
      "6000/6000 [==============================] - 2s 359us/step - loss: 0.3073 - accuracy: 0.8879\n",
      "1000/1000 [==============================] - 0s 365us/step - loss: 0.3741 - accuracy: 0.8670\n"
     ]
    }
   ],
   "source": [
    "neurons = [[32, 16, 16, 16, 10], [64, 32, 32, 16, 10], [128, 64, 32, 16, 10]]\n",
    "\n",
    "for neuron in neurons:\n",
    "    \n",
    "    model5 = model_five_layers(neuron)\n",
    "    \n",
    "    loss_train, metric_train = model5.evaluate(X_train, y_train, batch_size=10)\n",
    "    loss_test, metric_test = model5.evaluate(X_test, y_test, batch_size=10)\n",
    "    \n",
    "    if metric_test > best_metric:\n",
    "        \n",
    "        best_metric = metric_test\n",
    "        model3.save('models/02_dz_best_model.h5')\n",
    "    \n",
    "    new_row = {'Модель': '5 слоев', 'Нейроны': neuron, 'Train': metric_train, 'Test':metric_test}\n",
    "    \n",
    "    stats = stats.append(new_row, ignore_index=True)"
   ]
  },
  {
   "cell_type": "code",
   "execution_count": 14,
   "metadata": {},
   "outputs": [],
   "source": [
    "def model_ten_layers(neuron):\n",
    "    \n",
    "    model = Sequential()\n",
    "    model.add(Dense(neuron[0], input_shape=(28 * 28,), activation='relu'))\n",
    "    model.add(Dense(neuron[1], activation='relu'))\n",
    "    model.add(Dense(neuron[2], activation='relu'))\n",
    "    model.add(Dense(neuron[3], activation='relu'))\n",
    "    model.add(Dense(neuron[4], activation='relu'))\n",
    "    model.add(Dense(neuron[5], activation='relu'))\n",
    "    model.add(Dense(neuron[6], activation='relu'))\n",
    "    model.add(Dense(neuron[7], activation='relu'))\n",
    "    model.add(Dense(neuron[8], activation='relu'))\n",
    "    model.add(Dense(neuron[9], activation='sigmoid'))\n",
    "    \n",
    "    model.compile(loss='categorical_crossentropy', optimizer='SGD', metrics=['accuracy'])\n",
    "    \n",
    "    model.fit(X_train, y_train, epochs=5, batch_size=10, verbose=0)\n",
    "    \n",
    "    return model"
   ]
  },
  {
   "cell_type": "code",
   "execution_count": 15,
   "metadata": {},
   "outputs": [
    {
     "name": "stdout",
     "output_type": "stream",
     "text": [
      "6000/6000 [==============================] - 2s 340us/step - loss: 0.4165 - accuracy: 0.8522\n",
      "1000/1000 [==============================] - 0s 339us/step - loss: 0.4722 - accuracy: 0.8326\n",
      "6000/6000 [==============================] - 2s 362us/step - loss: 0.3869 - accuracy: 0.8568\n",
      "1000/1000 [==============================] - 0s 359us/step - loss: 0.4464 - accuracy: 0.8381\n",
      "6000/6000 [==============================] - 3s 419us/step - loss: 0.3254 - accuracy: 0.8804\n",
      "1000/1000 [==============================] - 0s 422us/step - loss: 0.3943 - accuracy: 0.8602\n"
     ]
    }
   ],
   "source": [
    "neurons = [[32, 16, 16, 16, 16, 16, 16, 16, 16, 10], \n",
    "           [64, 32, 32, 32, 32, 16, 16, 16, 16, 10], \n",
    "           [128, 64, 64, 64, 32, 32, 32, 16, 16, 10]]\n",
    "\n",
    "for neuron in neurons:\n",
    "    \n",
    "    model10 = model_ten_layers(neuron)\n",
    "    \n",
    "    loss_train, metric_train = model10.evaluate(X_train, y_train, batch_size=10)\n",
    "    loss_test, metric_test = model10.evaluate(X_test, y_test, batch_size=10)\n",
    "    \n",
    "    if metric_test > best_metric:\n",
    "        \n",
    "        best_metric = metric_test\n",
    "        model3.save('models/02_dz_best_model.h5')\n",
    "    \n",
    "    new_row = {'Модель': '10 слоев', 'Нейроны': neuron, 'Train': metric_train, 'Test':metric_test}\n",
    "    \n",
    "    stats = stats.append(new_row, ignore_index=True)"
   ]
  },
  {
   "cell_type": "code",
   "execution_count": 16,
   "metadata": {},
   "outputs": [
    {
     "data": {
      "text/html": [
       "<div>\n",
       "<style scoped>\n",
       "    .dataframe tbody tr th:only-of-type {\n",
       "        vertical-align: middle;\n",
       "    }\n",
       "\n",
       "    .dataframe tbody tr th {\n",
       "        vertical-align: top;\n",
       "    }\n",
       "\n",
       "    .dataframe thead th {\n",
       "        text-align: right;\n",
       "    }\n",
       "</style>\n",
       "<table border=\"1\" class=\"dataframe\">\n",
       "  <thead>\n",
       "    <tr style=\"text-align: right;\">\n",
       "      <th></th>\n",
       "      <th>Модель</th>\n",
       "      <th>Нейроны</th>\n",
       "      <th>Train</th>\n",
       "      <th>Test</th>\n",
       "    </tr>\n",
       "  </thead>\n",
       "  <tbody>\n",
       "    <tr>\n",
       "      <th>0</th>\n",
       "      <td>2 слоя</td>\n",
       "      <td>[32, 10]</td>\n",
       "      <td>0.873133</td>\n",
       "      <td>0.8538</td>\n",
       "    </tr>\n",
       "    <tr>\n",
       "      <th>3</th>\n",
       "      <td>3 слоя</td>\n",
       "      <td>[32, 16, 10]</td>\n",
       "      <td>0.876067</td>\n",
       "      <td>0.8568</td>\n",
       "    </tr>\n",
       "    <tr>\n",
       "      <th>6</th>\n",
       "      <td>5 слоев</td>\n",
       "      <td>[32, 16, 16, 16, 10]</td>\n",
       "      <td>0.875450</td>\n",
       "      <td>0.8552</td>\n",
       "    </tr>\n",
       "    <tr>\n",
       "      <th>9</th>\n",
       "      <td>10 слоев</td>\n",
       "      <td>[32, 16, 16, 16, 16, 16, 16, 16, 16, 10]</td>\n",
       "      <td>0.852250</td>\n",
       "      <td>0.8326</td>\n",
       "    </tr>\n",
       "    <tr>\n",
       "      <th>1</th>\n",
       "      <td>2 слоя</td>\n",
       "      <td>[64, 10]</td>\n",
       "      <td>0.881283</td>\n",
       "      <td>0.8632</td>\n",
       "    </tr>\n",
       "    <tr>\n",
       "      <th>4</th>\n",
       "      <td>3 слоя</td>\n",
       "      <td>[64, 32, 10]</td>\n",
       "      <td>0.879967</td>\n",
       "      <td>0.8608</td>\n",
       "    </tr>\n",
       "    <tr>\n",
       "      <th>7</th>\n",
       "      <td>5 слоев</td>\n",
       "      <td>[64, 32, 32, 16, 10]</td>\n",
       "      <td>0.874333</td>\n",
       "      <td>0.8547</td>\n",
       "    </tr>\n",
       "    <tr>\n",
       "      <th>10</th>\n",
       "      <td>10 слоев</td>\n",
       "      <td>[64, 32, 32, 32, 32, 16, 16, 16, 16, 10]</td>\n",
       "      <td>0.856750</td>\n",
       "      <td>0.8381</td>\n",
       "    </tr>\n",
       "    <tr>\n",
       "      <th>2</th>\n",
       "      <td>2 слоя</td>\n",
       "      <td>[128, 10]</td>\n",
       "      <td>0.875983</td>\n",
       "      <td>0.8576</td>\n",
       "    </tr>\n",
       "    <tr>\n",
       "      <th>5</th>\n",
       "      <td>3 слоя</td>\n",
       "      <td>[128, 64, 10]</td>\n",
       "      <td>0.881467</td>\n",
       "      <td>0.8625</td>\n",
       "    </tr>\n",
       "    <tr>\n",
       "      <th>8</th>\n",
       "      <td>5 слоев</td>\n",
       "      <td>[128, 64, 32, 16, 10]</td>\n",
       "      <td>0.887917</td>\n",
       "      <td>0.8670</td>\n",
       "    </tr>\n",
       "    <tr>\n",
       "      <th>11</th>\n",
       "      <td>10 слоев</td>\n",
       "      <td>[128, 64, 64, 64, 32, 32, 32, 16, 16, 10]</td>\n",
       "      <td>0.880433</td>\n",
       "      <td>0.8602</td>\n",
       "    </tr>\n",
       "  </tbody>\n",
       "</table>\n",
       "</div>"
      ],
      "text/plain": [
       "      Модель                                    Нейроны     Train    Test\n",
       "0     2 слоя                                   [32, 10]  0.873133  0.8538\n",
       "3     3 слоя                               [32, 16, 10]  0.876067  0.8568\n",
       "6    5 слоев                       [32, 16, 16, 16, 10]  0.875450  0.8552\n",
       "9   10 слоев   [32, 16, 16, 16, 16, 16, 16, 16, 16, 10]  0.852250  0.8326\n",
       "1     2 слоя                                   [64, 10]  0.881283  0.8632\n",
       "4     3 слоя                               [64, 32, 10]  0.879967  0.8608\n",
       "7    5 слоев                       [64, 32, 32, 16, 10]  0.874333  0.8547\n",
       "10  10 слоев   [64, 32, 32, 32, 32, 16, 16, 16, 16, 10]  0.856750  0.8381\n",
       "2     2 слоя                                  [128, 10]  0.875983  0.8576\n",
       "5     3 слоя                              [128, 64, 10]  0.881467  0.8625\n",
       "8    5 слоев                      [128, 64, 32, 16, 10]  0.887917  0.8670\n",
       "11  10 слоев  [128, 64, 64, 64, 32, 32, 32, 16, 16, 10]  0.880433  0.8602"
      ]
     },
     "execution_count": 16,
     "metadata": {},
     "output_type": "execute_result"
    }
   ],
   "source": [
    "stats = stats.sort_values('Нейроны')\n",
    "stats"
   ]
  },
  {
   "cell_type": "code",
   "execution_count": 17,
   "metadata": {},
   "outputs": [
    {
     "data": {
      "image/png": "[encoded data removed]",
      "text/plain": [
       "<Figure size 720x360 with 1 Axes>"
      ]
     },
     "metadata": {
      "needs_background": "light"
     },
     "output_type": "display_data"
    }
   ],
   "source": [
    "train_acc = stats['Train']\n",
    "test_acc = stats['Test']\n",
    "\n",
    "plt.figure(figsize=(10, 5))\n",
    "plt.plot(train_acc[:4], label='train_32', c='g')\n",
    "plt.plot(test_acc[:4], label='test_32', c='g', linestyle='--')\n",
    "plt.plot(train_acc[4:8], label='train_64', c='b')\n",
    "plt.plot(test_acc[4:8], label='test_64', c='b', linestyle='--')\n",
    "plt.plot(train_acc[8:], label='train_128', c='r')\n",
    "plt.plot(test_acc[8:], label='test_128', c='r', linestyle='--')\n",
    "plt.legend();"
   ]
  },
  {
   "cell_type": "markdown",
   "metadata": {},
   "source": [
    "**Вывод:**\n",
    "- увеличение количества нейронов в сети не всегда улучшает качество модели\n",
    "- увеличение количества слоев без увеличения размера сети не дает ожидаемой линейности (чем больше слоев, тем выше результат)."
   ]
  },
  {
   "cell_type": "markdown",
   "metadata": {},
   "source": [
    "### 2. Проверьте работу разных оптимизаторов (SGD, Adam, RMSProp) для одной из моделей п.1. Фиксируйте для тренировочного и тестового набора метрики accuracy."
   ]
  },
  {
   "cell_type": "code",
   "execution_count": 18,
   "metadata": {},
   "outputs": [
    {
     "name": "stdout",
     "output_type": "stream",
     "text": [
      "Model: \"sequential_5\"\n",
      "_________________________________________________________________\n",
      "Layer (type)                 Output Shape              Param #   \n",
      "=================================================================\n",
      "dense_12 (Dense)             (None, 128)               100480    \n",
      "_________________________________________________________________\n",
      "dense_13 (Dense)             (None, 64)                8256      \n",
      "_________________________________________________________________\n",
      "dense_14 (Dense)             (None, 10)                650       \n",
      "=================================================================\n",
      "Total params: 109,386\n",
      "Trainable params: 109,386\n",
      "Non-trainable params: 0\n",
      "_________________________________________________________________\n"
     ]
    }
   ],
   "source": [
    "model = load_model('models/02_dz_best_model.h5')\n",
    "model.summary()"
   ]
  },
  {
   "cell_type": "code",
   "execution_count": 19,
   "metadata": {},
   "outputs": [
    {
     "name": "stdout",
     "output_type": "stream",
     "text": [
      "6000/6000 [==============================] - 2s 350us/step - loss: 0.2654 - accuracy: 0.9015\n",
      "1000/1000 [==============================] - 0s 350us/step - loss: 0.3481 - accuracy: 0.8755\n",
      "6000/6000 [==============================] - 2s 354us/step - loss: 0.3931 - accuracy: 0.8752\n",
      "1000/1000 [==============================] - 0s 348us/step - loss: 0.5110 - accuracy: 0.8550\n",
      "6000/6000 [==============================] - 2s 341us/step - loss: 0.3213 - accuracy: 0.8820\n",
      "1000/1000 [==============================] - 0s 349us/step - loss: 0.4329 - accuracy: 0.8580\n"
     ]
    }
   ],
   "source": [
    "stats_optim = pd.DataFrame(columns=['Слоев', 'Оптимизатор', 'Train', 'Test'])\n",
    "\n",
    "optimizers = {'SGD': keras.optimizers.SGD(),\n",
    "              'RMSprop': keras.optimizers.RMSprop(),\n",
    "              'Adam': keras.optimizers.Adam()}\n",
    "\n",
    "model_i = model\n",
    "layers = len(model.get_config()['layers'])-1\n",
    "\n",
    "for i, i_optim in optimizers.items():\n",
    "    \n",
    "    model_i.compile(loss='categorical_crossentropy', optimizer=i_optim, metrics=['accuracy'])\n",
    "    \n",
    "    model_i.fit(X_train, y_train, epochs=5, batch_size=10, verbose=0)\n",
    "\n",
    "    loss_train, metric_train = model_i.evaluate(X_train, y_train, batch_size=10)\n",
    "    loss_test, metric_test = model_i.evaluate(X_test, y_test, batch_size=10)\n",
    "    \n",
    "    new_row = {'Слоев': layers, 'Оптимизатор': i, 'Train': metric_train, 'Test': metric_test}\n",
    "    \n",
    "    stats_optim = stats_optim.append(new_row, ignore_index=True)"
   ]
  },
  {
   "cell_type": "markdown",
   "metadata": {},
   "source": [
    "### 3. Сделайте вывод - что помогло вам улучшить качество классификации в нейросети на тестовом наборе?"
   ]
  },
  {
   "cell_type": "code",
   "execution_count": 20,
   "metadata": {},
   "outputs": [
    {
     "data": {
      "text/html": [
       "<div>\n",
       "<style scoped>\n",
       "    .dataframe tbody tr th:only-of-type {\n",
       "        vertical-align: middle;\n",
       "    }\n",
       "\n",
       "    .dataframe tbody tr th {\n",
       "        vertical-align: top;\n",
       "    }\n",
       "\n",
       "    .dataframe thead th {\n",
       "        text-align: right;\n",
       "    }\n",
       "</style>\n",
       "<table border=\"1\" class=\"dataframe\">\n",
       "  <thead>\n",
       "    <tr style=\"text-align: right;\">\n",
       "      <th></th>\n",
       "      <th>Слоев</th>\n",
       "      <th>Оптимизатор</th>\n",
       "      <th>Train</th>\n",
       "      <th>Test</th>\n",
       "    </tr>\n",
       "  </thead>\n",
       "  <tbody>\n",
       "    <tr>\n",
       "      <th>0</th>\n",
       "      <td>3</td>\n",
       "      <td>SGD</td>\n",
       "      <td>0.901533</td>\n",
       "      <td>0.8755</td>\n",
       "    </tr>\n",
       "    <tr>\n",
       "      <th>1</th>\n",
       "      <td>3</td>\n",
       "      <td>RMSprop</td>\n",
       "      <td>0.875233</td>\n",
       "      <td>0.8550</td>\n",
       "    </tr>\n",
       "    <tr>\n",
       "      <th>2</th>\n",
       "      <td>3</td>\n",
       "      <td>Adam</td>\n",
       "      <td>0.882000</td>\n",
       "      <td>0.8580</td>\n",
       "    </tr>\n",
       "  </tbody>\n",
       "</table>\n",
       "</div>"
      ],
      "text/plain": [
       "  Слоев Оптимизатор     Train    Test\n",
       "0     3         SGD  0.901533  0.8755\n",
       "1     3     RMSprop  0.875233  0.8550\n",
       "2     3        Adam  0.882000  0.8580"
      ]
     },
     "execution_count": 20,
     "metadata": {},
     "output_type": "execute_result"
    }
   ],
   "source": [
    "stats_optim"
   ]
  },
  {
   "cell_type": "markdown",
   "metadata": {},
   "source": [
    "**Вывод:**\n",
    "- качество модели повысилось при применении 3-х слойной нейросети (128, 64, 10) и оптимизатора SGD"
   ]
  },
  {
   "cell_type": "markdown",
   "metadata": {},
   "source": [
    "### 4. Для одного варианта сети сформируйте матрицу ошибок по классам. Оцените качество модели по каждому классу отдельно (полнота, точность)."
   ]
  },
  {
   "cell_type": "code",
   "execution_count": 21,
   "metadata": {},
   "outputs": [
    {
     "name": "stdout",
     "output_type": "stream",
     "text": [
      "[[715   3  25  24   2   0 227   0   4   0]\n",
      " [  1 960  14  18   5   0   2   0   0   0]\n",
      " [  7   0 839   8  62   0  84   0   0   0]\n",
      " [ 14  13  14 874  39   0  42   0   4   0]\n",
      " [  0   0 164  27 740   0  69   0   0   0]\n",
      " [  0   0   0   1   0 942   0  32   2  23]\n",
      " [ 56   0 106  21  54   0 757   0   6   0]\n",
      " [  0   0   0   0   0   4   0 967   0  29]\n",
      " [  2   1  14   5   4   2  11   3 958   0]\n",
      " [  0   0   0   0   0   4   1  35   0 960]]\n"
     ]
    }
   ],
   "source": [
    "model_f = model\n",
    "\n",
    "model_f.compile(loss='categorical_crossentropy', optimizer='SGD', metrics=['accuracy'])   \n",
    "model_f.fit(X_train, y_train, epochs=5, batch_size=10, verbose=0)\n",
    "\n",
    "predicted_outputs = np.argmax(model_f.predict(X_test), axis=1)\n",
    "expected_outputs = np.argmax(y_test, axis=1)\n",
    "\n",
    "predicted_confusion_matrix = confusion_matrix(expected_outputs, predicted_outputs)\n",
    "print(predicted_confusion_matrix)"
   ]
  },
  {
   "cell_type": "code",
   "execution_count": 22,
   "metadata": {},
   "outputs": [
    {
     "name": "stdout",
     "output_type": "stream",
     "text": [
      "              precision    recall  f1-score   support\n",
      "\n",
      "           0       0.90      0.71      0.80      1000\n",
      "           1       0.98      0.96      0.97      1000\n",
      "           2       0.71      0.84      0.77      1000\n",
      "           3       0.89      0.87      0.88      1000\n",
      "           4       0.82      0.74      0.78      1000\n",
      "           5       0.99      0.94      0.97      1000\n",
      "           6       0.63      0.76      0.69      1000\n",
      "           7       0.93      0.97      0.95      1000\n",
      "           8       0.98      0.96      0.97      1000\n",
      "           9       0.95      0.96      0.95      1000\n",
      "\n",
      "    accuracy                           0.87     10000\n",
      "   macro avg       0.88      0.87      0.87     10000\n",
      "weighted avg       0.88      0.87      0.87     10000\n",
      "\n"
     ]
    }
   ],
   "source": [
    "pred = model_f.predict(X_test)\n",
    "predicted = np.argmax(pred, axis=1)\n",
    "report = classification_report(np.argmax(y_test, axis=1), predicted)\n",
    "print(report)"
   ]
  },
  {
   "cell_type": "markdown",
   "metadata": {},
   "source": [
    "**Вывод:**\n",
    "- к сожалению, не понятно как интерпретировать матрицу ошибок."
   ]
  },
  {
   "cell_type": "code",
   "execution_count": null,
   "metadata": {},
   "outputs": [],
   "source": []
  }
 ],
 "metadata": {
  "kernelspec": {
   "display_name": "Python 3",
   "language": "python",
   "name": "python3"
  },
  "language_info": {
   "codemirror_mode": {
    "name": "ipython",
    "version": 3
   },
   "file_extension": ".py",
   "mimetype": "text/x-python",
   "name": "python",
   "nbconvert_exporter": "python",
   "pygments_lexer": "ipython3",
   "version": "3.8.5"
  }
 },
 "nbformat": 4,
 "nbformat_minor": 4
}
