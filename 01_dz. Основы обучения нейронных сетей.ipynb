{
 "cells": [
  {
   "cell_type": "markdown",
   "metadata": {},
   "source": [
    "# Тема: Основы обучения нейронных сетей"
   ]
  },
  {
   "cell_type": "code",
   "execution_count": 235,
   "metadata": {},
   "outputs": [],
   "source": [
    "import numpy as np\n",
    "import pandas as pd\n",
    "import seaborn as sns\n",
    "import matplotlib.pyplot as plt\n",
    "\n",
    "import warnings\n",
    "warnings.filterwarnings('ignore')\n",
    "\n",
    "from sklearn.model_selection import train_test_split\n",
    "from sklearn.datasets import load_digits\n",
    "from sklearn.preprocessing import MinMaxScaler"
   ]
  },
  {
   "cell_type": "code",
   "execution_count": 236,
   "metadata": {},
   "outputs": [
    {
     "name": "stdout",
     "output_type": "stream",
     "text": [
      "(1797, 64)\n"
     ]
    },
    {
     "data": {
      "image/png": "[encoded data removed]",
      "text/plain": [
       "<Figure size 1152x432 with 10 Axes>"
      ]
     },
     "metadata": {
      "needs_background": "light"
     },
     "output_type": "display_data"
    }
   ],
   "source": [
    "# Подготовка тренировочных данных\n",
    "X, y = load_digits(return_X_y=True)\n",
    "print(X.shape) # расскоментируйте, чтобы размер данных\n",
    "\n",
    "# репрезентация данных\n",
    "plt.figure(figsize=(16, 6))\n",
    "for i in range(10):\n",
    "    plt.subplot(2, 5, i + 1)\n",
    "    plt.imshow(X[i,:].reshape([8, 8]))"
   ]
  },
  {
   "cell_type": "code",
   "execution_count": 237,
   "metadata": {},
   "outputs": [],
   "source": [
    "def to_one_hot(Y):\n",
    "    n_col = np.max(Y) + 1\n",
    "    binarized = np.zeros((len(Y), n_col))\n",
    "    for i in range(len(Y)):\n",
    "        binarized[i, Y[i]] = 1\n",
    "    return binarized\n",
    "\n",
    "# вычисление сигмоид функции\n",
    "def sigmoid(x):\n",
    "    return 1 / (1 + np.exp(-x))\n",
    "\n",
    "# вычисление производной от сигмоид функции\n",
    "def sigmoid_deriv(x):\n",
    "    return sigmoid(x) * (1 - sigmoid(x))"
   ]
  },
  {
   "cell_type": "code",
   "execution_count": 238,
   "metadata": {},
   "outputs": [
    {
     "data": {
      "text/plain": [
       "array([[1., 0., 0., ..., 0., 0., 0.],\n",
       "       [0., 1., 0., ..., 0., 0., 0.],\n",
       "       [0., 0., 1., ..., 0., 0., 0.],\n",
       "       ...,\n",
       "       [0., 0., 0., ..., 0., 1., 0.],\n",
       "       [0., 0., 0., ..., 0., 0., 1.],\n",
       "       [0., 0., 0., ..., 0., 1., 0.]])"
      ]
     },
     "metadata": {},
     "output_type": "display_data"
    },
    {
     "data": {
      "text/plain": [
       "(1797, 10)"
      ]
     },
     "metadata": {},
     "output_type": "display_data"
    }
   ],
   "source": [
    "# формирование входных данных\n",
    "scaler = MinMaxScaler()\n",
    "X = scaler.fit_transform(X)\n",
    "\n",
    "# формирование выходных данных(результатов)\n",
    "y = y.flatten()\n",
    "y = to_one_hot(y)\n",
    "display(y, y.shape)"
   ]
  },
  {
   "cell_type": "code",
   "execution_count": 239,
   "metadata": {},
   "outputs": [
    {
     "data": {
      "text/plain": [
       "((1203, 64), (594, 64))"
      ]
     },
     "execution_count": 239,
     "metadata": {},
     "output_type": "execute_result"
    }
   ],
   "source": [
    "# Разделение данных на тренировочные и тестовые\n",
    "X_train, X_test, y_train, y_test = train_test_split(X, y, test_size=0.33)\n",
    "X_train.shape, X_test.shape"
   ]
  },
  {
   "cell_type": "markdown",
   "metadata": {},
   "source": [
    "### 1. Попробуйте видоизменить параметры разобранной на уроке двухслойной нейронной сети таким образом, чтобы улучшить ее точность. "
   ]
  },
  {
   "cell_type": "code",
   "execution_count": 240,
   "metadata": {},
   "outputs": [],
   "source": [
    "# Обучение нейронной сети\n",
    "def training_network(neuron_numb=5, learning_rate=0.1, num_epochs=100):\n",
    "    # определим число нейронов скрытого слоя\n",
    "    neuron_numb = neuron_numb\n",
    "\n",
    "    # присваивание случайных весов\n",
    "    np.random.seed(1)\n",
    "    w0 = np.random.random((64, neuron_numb))  # для входного слоя    - 64 входа, neuron_numb выходов\n",
    "    w1 = np.random.random((neuron_numb, 10))  # для внутреннего слоя - neuron_numb входов, 10 выходов\n",
    "\n",
    "    # скорость обучения (learning rate)\n",
    "    learning_rate = learning_rate\n",
    "\n",
    "    # количество итераций\n",
    "    num_epochs = num_epochs\n",
    "\n",
    "    # процесс обучения\n",
    "    for i in range(num_epochs):\n",
    "\n",
    "        # прямое распространение(feed forward)\n",
    "        layer0 = X_train\n",
    "        layer1 = sigmoid(np.dot(layer0, w0))\n",
    "        layer2 = sigmoid(np.dot(layer1, w1))\n",
    "\n",
    "        # обратное распространение (back propagation)\n",
    "        #  с использованием градиентного спуска\n",
    "        layer2_error = layer2 - y_train  # производная функции потерь\n",
    "        layer2_grad = layer2_error * sigmoid_deriv(layer2)\n",
    "\n",
    "        layer1_error = layer2_grad.dot(w1.T)\n",
    "        layer1_grad = layer1_error * sigmoid_deriv(layer1)\n",
    "\n",
    "        w1 -= layer1.T.dot(layer2_grad) * learning_rate\n",
    "        w0 -= layer0.T.dot(layer1_grad) * learning_rate\n",
    "    \n",
    "        # ошибка модели\n",
    "        error = np.mean(np.abs(layer2_error))\n",
    "    \n",
    "        # метрики качества\n",
    "        preds = np.argmax(layer2, axis=1)\n",
    "        labels = np.argmax(y_train, axis=1)\n",
    "        accuracy = (preds == labels).sum() * 100 / len(labels)\n",
    "        \n",
    "    return accuracy, error, w0, w1 "
   ]
  },
  {
   "cell_type": "code",
   "execution_count": 241,
   "metadata": {},
   "outputs": [],
   "source": [
    "stats_n = pd.DataFrame(columns=['accuracy', 'error', 'w0', 'w1'])\n",
    "\n",
    "neuron_numbs = [5, 10, 15, 20]\n",
    "\n",
    "for n in neuron_numbs:\n",
    "    \n",
    "    accuracy, error, w0, w1 = training_network(neuron_numb=n)\n",
    "\n",
    "    stats_n.loc[f'neuron_numb{n}_learning_rate0.1_num_epochs100', 'accuracy'] = round(accuracy, 3)\n",
    "    stats_n.loc[f'neuron_numb{n}_learning_rate0.1_num_epochs100', 'error'] = round(error, 3)\n",
    "    stats_n.loc[f'neuron_numb{n}_learning_rate0.1_num_epochs100', 'w0'] = w0\n",
    "    stats_n.loc[f'neuron_numb{n}_learning_rate0.1_num_epochs100', 'w1'] = w1"
   ]
  },
  {
   "cell_type": "code",
   "execution_count": 242,
   "metadata": {},
   "outputs": [],
   "source": [
    "stats_r = pd.DataFrame(columns=['accuracy', 'error', 'w0', 'w1'])\n",
    "\n",
    "learning_rate = [0.1, 0.01, 0.001]\n",
    "\n",
    "for r in learning_rate:\n",
    "    \n",
    "    accuracy, error, w0, w1 = training_network(learning_rate=r)\n",
    "\n",
    "    stats_r.loc[f'neuron_numb5_learning_rate{r}_num_epochs100', 'accuracy'] = round(accuracy, 3)\n",
    "    stats_r.loc[f'neuron_numb5_learning_rate{r}_num_epochs100', 'error'] = round(error, 3)\n",
    "    stats_r.loc[f'neuron_numb5_learning_rate{r}_num_epochs100', 'w0'] = w0\n",
    "    stats_r.loc[f'neuron_numb5_learning_rate{r}_num_epochs100', 'w1'] = w1"
   ]
  },
  {
   "cell_type": "code",
   "execution_count": 243,
   "metadata": {},
   "outputs": [],
   "source": [
    "stats_e = pd.DataFrame(columns=['accuracy', 'error', 'w0', 'w1'])\n",
    "\n",
    "num_epochs = [100, 300, 500]\n",
    "\n",
    "for e in num_epochs:\n",
    "    \n",
    "    accuracy, error, w0, w1 = training_network(num_epochs=e)\n",
    "\n",
    "    stats_e.loc[f'neuron_numb5_learning_rate5_num_epochs{e}', 'accuracy'] = round(accuracy, 3)\n",
    "    stats_e.loc[f'neuron_numb5_learning_rate5_num_epochs{e}', 'error'] = round(error, 3)\n",
    "    stats_e.loc[f'neuron_numb5_learning_rate5_num_epochs{e}', 'w0'] = w0\n",
    "    stats_e.loc[f'neuron_numb5_learning_rate5_num_epochs{e}', 'w1'] = w1"
   ]
  },
  {
   "cell_type": "markdown",
   "metadata": {},
   "source": [
    "### 2. Проведите анализ — что приводит к ухудшению точности нейронной сети? \n",
    "### Что приводит к увеличению ее точности?"
   ]
  },
  {
   "cell_type": "code",
   "execution_count": 244,
   "metadata": {},
   "outputs": [
    {
     "data": {
      "text/html": [
       "<div>\n",
       "<style scoped>\n",
       "    .dataframe tbody tr th:only-of-type {\n",
       "        vertical-align: middle;\n",
       "    }\n",
       "\n",
       "    .dataframe tbody tr th {\n",
       "        vertical-align: top;\n",
       "    }\n",
       "\n",
       "    .dataframe thead th {\n",
       "        text-align: right;\n",
       "    }\n",
       "</style>\n",
       "<table border=\"1\" class=\"dataframe\">\n",
       "  <thead>\n",
       "    <tr style=\"text-align: right;\">\n",
       "      <th></th>\n",
       "      <th>accuracy</th>\n",
       "      <th>error</th>\n",
       "      <th>w0</th>\n",
       "      <th>w1</th>\n",
       "    </tr>\n",
       "  </thead>\n",
       "  <tbody>\n",
       "    <tr>\n",
       "      <th>neuron_numb5_learning_rate0.1_num_epochs100</th>\n",
       "      <td>31.754</td>\n",
       "      <td>0.137</td>\n",
       "      <td>[[0.417022004702574, 0.7203244934421581, 0.000...</td>\n",
       "      <td>[[-2.580195562461926, -3.3523617581687883, -2....</td>\n",
       "    </tr>\n",
       "    <tr>\n",
       "      <th>neuron_numb10_learning_rate0.1_num_epochs100</th>\n",
       "      <td>52.203</td>\n",
       "      <td>0.084</td>\n",
       "      <td>[[0.417022004702574, 0.7203244934421581, 0.000...</td>\n",
       "      <td>[[-14.913077903764808, 0.48932552207842517, -0...</td>\n",
       "    </tr>\n",
       "    <tr>\n",
       "      <th>neuron_numb15_learning_rate0.1_num_epochs100</th>\n",
       "      <td>64.921</td>\n",
       "      <td>0.095</td>\n",
       "      <td>[[0.417022004702574, 0.7203244934421581, 0.000...</td>\n",
       "      <td>[[3.80795863812324, -7.832247750228096, 5.8926...</td>\n",
       "    </tr>\n",
       "    <tr>\n",
       "      <th>neuron_numb20_learning_rate0.1_num_epochs100</th>\n",
       "      <td>76.309</td>\n",
       "      <td>0.055</td>\n",
       "      <td>[[0.417022004702574, 0.7203244934421581, 0.000...</td>\n",
       "      <td>[[-5.119426454245089, 3.9309831090538365, -5.1...</td>\n",
       "    </tr>\n",
       "  </tbody>\n",
       "</table>\n",
       "</div>"
      ],
      "text/plain": [
       "                                             accuracy  error  \\\n",
       "neuron_numb5_learning_rate0.1_num_epochs100    31.754  0.137   \n",
       "neuron_numb10_learning_rate0.1_num_epochs100   52.203  0.084   \n",
       "neuron_numb15_learning_rate0.1_num_epochs100   64.921  0.095   \n",
       "neuron_numb20_learning_rate0.1_num_epochs100   76.309  0.055   \n",
       "\n",
       "                                                                                             w0  \\\n",
       "neuron_numb5_learning_rate0.1_num_epochs100   [[0.417022004702574, 0.7203244934421581, 0.000...   \n",
       "neuron_numb10_learning_rate0.1_num_epochs100  [[0.417022004702574, 0.7203244934421581, 0.000...   \n",
       "neuron_numb15_learning_rate0.1_num_epochs100  [[0.417022004702574, 0.7203244934421581, 0.000...   \n",
       "neuron_numb20_learning_rate0.1_num_epochs100  [[0.417022004702574, 0.7203244934421581, 0.000...   \n",
       "\n",
       "                                                                                             w1  \n",
       "neuron_numb5_learning_rate0.1_num_epochs100   [[-2.580195562461926, -3.3523617581687883, -2....  \n",
       "neuron_numb10_learning_rate0.1_num_epochs100  [[-14.913077903764808, 0.48932552207842517, -0...  \n",
       "neuron_numb15_learning_rate0.1_num_epochs100  [[3.80795863812324, -7.832247750228096, 5.8926...  \n",
       "neuron_numb20_learning_rate0.1_num_epochs100  [[-5.119426454245089, 3.9309831090538365, -5.1...  "
      ]
     },
     "execution_count": 244,
     "metadata": {},
     "output_type": "execute_result"
    }
   ],
   "source": [
    "stats_n"
   ]
  },
  {
   "cell_type": "markdown",
   "metadata": {},
   "source": [
    "**Вывод:**\n",
    "- увеличение только числа нейронов приводит к увеличению точности нейронной сети"
   ]
  },
  {
   "cell_type": "code",
   "execution_count": 245,
   "metadata": {},
   "outputs": [
    {
     "data": {
      "text/html": [
       "<div>\n",
       "<style scoped>\n",
       "    .dataframe tbody tr th:only-of-type {\n",
       "        vertical-align: middle;\n",
       "    }\n",
       "\n",
       "    .dataframe tbody tr th {\n",
       "        vertical-align: top;\n",
       "    }\n",
       "\n",
       "    .dataframe thead th {\n",
       "        text-align: right;\n",
       "    }\n",
       "</style>\n",
       "<table border=\"1\" class=\"dataframe\">\n",
       "  <thead>\n",
       "    <tr style=\"text-align: right;\">\n",
       "      <th></th>\n",
       "      <th>accuracy</th>\n",
       "      <th>error</th>\n",
       "      <th>w0</th>\n",
       "      <th>w1</th>\n",
       "    </tr>\n",
       "  </thead>\n",
       "  <tbody>\n",
       "    <tr>\n",
       "      <th>neuron_numb5_learning_rate0.1_num_epochs100</th>\n",
       "      <td>31.754</td>\n",
       "      <td>0.137</td>\n",
       "      <td>[[0.417022004702574, 0.7203244934421581, 0.000...</td>\n",
       "      <td>[[-2.580195562461926, -3.3523617581687883, -2....</td>\n",
       "    </tr>\n",
       "    <tr>\n",
       "      <th>neuron_numb5_learning_rate0.01_num_epochs100</th>\n",
       "      <td>47.963</td>\n",
       "      <td>0.143</td>\n",
       "      <td>[[0.417022004702574, 0.7203244934421581, 0.000...</td>\n",
       "      <td>[[-2.108220938079365, -0.28148204561208, -2.09...</td>\n",
       "    </tr>\n",
       "    <tr>\n",
       "      <th>neuron_numb5_learning_rate0.001_num_epochs100</th>\n",
       "      <td>10.973</td>\n",
       "      <td>0.18</td>\n",
       "      <td>[[0.417022004702574, 0.7203244934421581, 0.000...</td>\n",
       "      <td>[[-0.5310815909409607, -0.46049061648570694, -...</td>\n",
       "    </tr>\n",
       "  </tbody>\n",
       "</table>\n",
       "</div>"
      ],
      "text/plain": [
       "                                              accuracy  error  \\\n",
       "neuron_numb5_learning_rate0.1_num_epochs100     31.754  0.137   \n",
       "neuron_numb5_learning_rate0.01_num_epochs100    47.963  0.143   \n",
       "neuron_numb5_learning_rate0.001_num_epochs100   10.973   0.18   \n",
       "\n",
       "                                                                                              w0  \\\n",
       "neuron_numb5_learning_rate0.1_num_epochs100    [[0.417022004702574, 0.7203244934421581, 0.000...   \n",
       "neuron_numb5_learning_rate0.01_num_epochs100   [[0.417022004702574, 0.7203244934421581, 0.000...   \n",
       "neuron_numb5_learning_rate0.001_num_epochs100  [[0.417022004702574, 0.7203244934421581, 0.000...   \n",
       "\n",
       "                                                                                              w1  \n",
       "neuron_numb5_learning_rate0.1_num_epochs100    [[-2.580195562461926, -3.3523617581687883, -2....  \n",
       "neuron_numb5_learning_rate0.01_num_epochs100   [[-2.108220938079365, -0.28148204561208, -2.09...  \n",
       "neuron_numb5_learning_rate0.001_num_epochs100  [[-0.5310815909409607, -0.46049061648570694, -...  "
      ]
     },
     "execution_count": 245,
     "metadata": {},
     "output_type": "execute_result"
    }
   ],
   "source": [
    "stats_r"
   ]
  },
  {
   "cell_type": "markdown",
   "metadata": {},
   "source": [
    "**Вывод:**\n",
    "- увеличение только скорости обучения после значения 0.01 приводит к ухудшению точности нейронной сети"
   ]
  },
  {
   "cell_type": "code",
   "execution_count": 246,
   "metadata": {},
   "outputs": [
    {
     "data": {
      "text/html": [
       "<div>\n",
       "<style scoped>\n",
       "    .dataframe tbody tr th:only-of-type {\n",
       "        vertical-align: middle;\n",
       "    }\n",
       "\n",
       "    .dataframe tbody tr th {\n",
       "        vertical-align: top;\n",
       "    }\n",
       "\n",
       "    .dataframe thead th {\n",
       "        text-align: right;\n",
       "    }\n",
       "</style>\n",
       "<table border=\"1\" class=\"dataframe\">\n",
       "  <thead>\n",
       "    <tr style=\"text-align: right;\">\n",
       "      <th></th>\n",
       "      <th>accuracy</th>\n",
       "      <th>error</th>\n",
       "      <th>w0</th>\n",
       "      <th>w1</th>\n",
       "    </tr>\n",
       "  </thead>\n",
       "  <tbody>\n",
       "    <tr>\n",
       "      <th>neuron_numb5_learning_rate5_num_epochs100</th>\n",
       "      <td>31.754</td>\n",
       "      <td>0.137</td>\n",
       "      <td>[[0.417022004702574, 0.7203244934421581, 0.000...</td>\n",
       "      <td>[[-2.580195562461926, -3.3523617581687883, -2....</td>\n",
       "    </tr>\n",
       "    <tr>\n",
       "      <th>neuron_numb5_learning_rate5_num_epochs300</th>\n",
       "      <td>56.027</td>\n",
       "      <td>0.189</td>\n",
       "      <td>[[0.417022004702574, 0.7203244934421581, 0.000...</td>\n",
       "      <td>[[-1.1448773423721395, -0.03764079044932411, -...</td>\n",
       "    </tr>\n",
       "    <tr>\n",
       "      <th>neuron_numb5_learning_rate5_num_epochs500</th>\n",
       "      <td>60.515</td>\n",
       "      <td>0.135</td>\n",
       "      <td>[[0.417022004702574, 0.7203244934421581, 0.000...</td>\n",
       "      <td>[[0.024668406123029563, -0.6778502430031499, -...</td>\n",
       "    </tr>\n",
       "  </tbody>\n",
       "</table>\n",
       "</div>"
      ],
      "text/plain": [
       "                                          accuracy  error  \\\n",
       "neuron_numb5_learning_rate5_num_epochs100   31.754  0.137   \n",
       "neuron_numb5_learning_rate5_num_epochs300   56.027  0.189   \n",
       "neuron_numb5_learning_rate5_num_epochs500   60.515  0.135   \n",
       "\n",
       "                                                                                          w0  \\\n",
       "neuron_numb5_learning_rate5_num_epochs100  [[0.417022004702574, 0.7203244934421581, 0.000...   \n",
       "neuron_numb5_learning_rate5_num_epochs300  [[0.417022004702574, 0.7203244934421581, 0.000...   \n",
       "neuron_numb5_learning_rate5_num_epochs500  [[0.417022004702574, 0.7203244934421581, 0.000...   \n",
       "\n",
       "                                                                                          w1  \n",
       "neuron_numb5_learning_rate5_num_epochs100  [[-2.580195562461926, -3.3523617581687883, -2....  \n",
       "neuron_numb5_learning_rate5_num_epochs300  [[-1.1448773423721395, -0.03764079044932411, -...  \n",
       "neuron_numb5_learning_rate5_num_epochs500  [[0.024668406123029563, -0.6778502430031499, -...  "
      ]
     },
     "execution_count": 246,
     "metadata": {},
     "output_type": "execute_result"
    }
   ],
   "source": [
    "stats_e"
   ]
  },
  {
   "cell_type": "markdown",
   "metadata": {},
   "source": [
    "**Вывод:**\n",
    "- увеличение только количества итераций приводит к улучшению точности нейронной сети"
   ]
  },
  {
   "cell_type": "code",
   "execution_count": 247,
   "metadata": {},
   "outputs": [],
   "source": [
    "# по выводам предыдущих эксперементов можно выбрать лучшие показатели, на них обучить\n",
    "# финальную нейронную сеть и сделать предсказание на тестовых данных\n",
    "accuracy, error, w0, w1 = training_network(neuron_numb=20, learning_rate=0.01, num_epochs=500)"
   ]
  },
  {
   "cell_type": "code",
   "execution_count": 248,
   "metadata": {},
   "outputs": [
    {
     "data": {
      "image/png": "[encoded data removed]",
      "text/plain": [
       "<Figure size 1152x360 with 1 Axes>"
      ]
     },
     "metadata": {
      "needs_background": "light"
     },
     "output_type": "display_data"
    },
    {
     "name": "stdout",
     "output_type": "stream",
     "text": [
      "accuracy на тесте 93.77%\n"
     ]
    }
   ],
   "source": [
    "# прямое распространение(feed forward)\n",
    "layer0_test = X_test\n",
    "layer1_test = sigmoid(np.dot(layer0_test, w0))\n",
    "layer2_test = sigmoid(np.dot(layer1_test, w1))\n",
    "     \n",
    "N = 10\n",
    "plt.figure(figsize=(16, 5))\n",
    "plt.plot(layer2_test[:N, 1], 'r', label='y pred')\n",
    "plt.plot(y_test[:N, 1], 'g', label='y test')\n",
    "plt.xticks(np.arange(N))\n",
    "plt.xlabel('№ примера')\n",
    "plt.ylabel('выход сети и целевой')\n",
    "plt.legend()\n",
    "plt.show()\n",
    "\n",
    "# метрика модели\n",
    "preds_test = np.argmax(layer2_test, axis=1)\n",
    "labels_test = np.argmax(y_test, axis=1)\n",
    "accuracy_test = (preds_test == labels_test).sum() * 100 / len(labels_test)\n",
    "\n",
    "print(f\"accuracy на тесте {accuracy_test:.2f}%\")"
   ]
  },
  {
   "cell_type": "code",
   "execution_count": null,
   "metadata": {},
   "outputs": [],
   "source": []
  }
 ],
 "metadata": {
  "kernelspec": {
   "display_name": "Python 3",
   "language": "python",
   "name": "python3"
  },
  "language_info": {
   "codemirror_mode": {
    "name": "ipython",
    "version": 3
   },
   "file_extension": ".py",
   "mimetype": "text/x-python",
   "name": "python",
   "nbconvert_exporter": "python",
   "pygments_lexer": "ipython3",
   "version": "3.8.5"
  }
 },
 "nbformat": 4,
 "nbformat_minor": 4
}
