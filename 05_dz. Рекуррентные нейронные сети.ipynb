{
 "cells": [
  {
   "cell_type": "markdown",
   "metadata": {},
   "source": [
    "# Тема: Рекуррентные нейронные сети"
   ]
  },
  {
   "cell_type": "code",
   "execution_count": 1,
   "metadata": {},
   "outputs": [],
   "source": [
    "import numpy as np\n",
    "import pandas as pd\n",
    "import matplotlib.pyplot as plt\n",
    "\n",
    "from sklearn.preprocessing import StandardScaler\n",
    "from sklearn.metrics import mean_absolute_error\n",
    "\n",
    "from keras.models import Sequential\n",
    "from keras.layers import Flatten, Conv1D, LSTM, Dense\n",
    "from keras.callbacks import EarlyStopping\n",
    "from keras.preprocessing import timeseries_dataset_from_array\n",
    "\n",
    "import warnings\n",
    "warnings.simplefilter(\"ignore\")"
   ]
  },
  {
   "cell_type": "markdown",
   "metadata": {},
   "source": [
    "### 1. Попробуйте обучить нейронную сеть RNN/LSTM/GRU на любом другом датасете (любимый временной ряд, текст на русском (другом языке) как генератор или классификатор, или прилагаемый набор airline-passengers - пасажиропоток для авиалиний)."
   ]
  },
  {
   "cell_type": "code",
   "execution_count": 2,
   "metadata": {},
   "outputs": [
    {
     "name": "stdout",
     "output_type": "stream",
     "text": [
      "--2021-05-07 13:56:42--  https://drive.google.com/uc?export=download&id=1xwXieDVy1RKdfiJ6am_nNWp6XhAYdhNb\n",
      "Распознаётся drive.google.com (drive.google.com)… 64.233.162.194, 2a00:1450:4010:c05::c2\n",
      "Подключение к drive.google.com (drive.google.com)|64.233.162.194|:443... соединение установлено.\n",
      "HTTP-запрос отправлен. Ожидание ответа… 302 Moved Temporarily\n",
      "Адрес: https://doc-08-c0-docs.googleusercontent.com/docs/securesc/ha0ro937gcuc7l7deffksulhg5h7mbp1/dsh7jrsfk14p0v9itdvk6r8ga21or63j/1620384975000/14904333240138417226/*/1xwXieDVy1RKdfiJ6am_nNWp6XhAYdhNb?e=download [переход]\n",
      "Предупреждение: в HTTP шаблоны не поддерживаются.\n",
      "--2021-05-07 13:56:43--  https://doc-08-c0-docs.googleusercontent.com/docs/securesc/ha0ro937gcuc7l7deffksulhg5h7mbp1/dsh7jrsfk14p0v9itdvk6r8ga21or63j/1620384975000/14904333240138417226/*/1xwXieDVy1RKdfiJ6am_nNWp6XhAYdhNb?e=download\n",
      "Распознаётся doc-08-c0-docs.googleusercontent.com (doc-08-c0-docs.googleusercontent.com)… 173.194.73.132, 2a00:1450:4010:c0d::84\n",
      "Подключение к doc-08-c0-docs.googleusercontent.com (doc-08-c0-docs.googleusercontent.com)|173.194.73.132|:443... соединение установлено.\n",
      "HTTP-запрос отправлен. Ожидание ответа… 200 OK\n",
      "Длина: 2037 (2,0K) [text/csv]\n",
      "Сохранение в: «data/airline-passengers.csv»\n",
      "\n",
      "data/airline-passen 100%[===================>]   1,99K  --.-KB/s    за 0s      \n",
      "\n",
      "2021-05-07 13:56:43 (257 MB/s) - «data/airline-passengers.csv» сохранён [2037/2037]\n",
      "\n"
     ]
    }
   ],
   "source": [
    "!wget 'https://drive.google.com/uc?export=download&id=1xwXieDVy1RKdfiJ6am_nNWp6XhAYdhNb' -O data/airline-passengers.csv"
   ]
  },
  {
   "cell_type": "code",
   "execution_count": 3,
   "metadata": {},
   "outputs": [
    {
     "data": {
      "text/html": [
       "<div>\n",
       "<style scoped>\n",
       "    .dataframe tbody tr th:only-of-type {\n",
       "        vertical-align: middle;\n",
       "    }\n",
       "\n",
       "    .dataframe tbody tr th {\n",
       "        vertical-align: top;\n",
       "    }\n",
       "\n",
       "    .dataframe thead th {\n",
       "        text-align: right;\n",
       "    }\n",
       "</style>\n",
       "<table border=\"1\" class=\"dataframe\">\n",
       "  <thead>\n",
       "    <tr style=\"text-align: right;\">\n",
       "      <th></th>\n",
       "      <th>Month</th>\n",
       "      <th>Passengers</th>\n",
       "    </tr>\n",
       "  </thead>\n",
       "  <tbody>\n",
       "    <tr>\n",
       "      <th>0</th>\n",
       "      <td>1949-01</td>\n",
       "      <td>112</td>\n",
       "    </tr>\n",
       "    <tr>\n",
       "      <th>1</th>\n",
       "      <td>1949-02</td>\n",
       "      <td>118</td>\n",
       "    </tr>\n",
       "    <tr>\n",
       "      <th>2</th>\n",
       "      <td>1949-03</td>\n",
       "      <td>132</td>\n",
       "    </tr>\n",
       "    <tr>\n",
       "      <th>3</th>\n",
       "      <td>1949-04</td>\n",
       "      <td>129</td>\n",
       "    </tr>\n",
       "    <tr>\n",
       "      <th>4</th>\n",
       "      <td>1949-05</td>\n",
       "      <td>121</td>\n",
       "    </tr>\n",
       "  </tbody>\n",
       "</table>\n",
       "</div>"
      ],
      "text/plain": [
       "     Month  Passengers\n",
       "0  1949-01         112\n",
       "1  1949-02         118\n",
       "2  1949-03         132\n",
       "3  1949-04         129\n",
       "4  1949-05         121"
      ]
     },
     "execution_count": 3,
     "metadata": {},
     "output_type": "execute_result"
    }
   ],
   "source": [
    "data = pd.read_csv('data/airline-passengers.csv')\n",
    "data.head()"
   ]
  },
  {
   "cell_type": "code",
   "execution_count": 4,
   "metadata": {},
   "outputs": [
    {
     "data": {
      "text/html": [
       "<div>\n",
       "<style scoped>\n",
       "    .dataframe tbody tr th:only-of-type {\n",
       "        vertical-align: middle;\n",
       "    }\n",
       "\n",
       "    .dataframe tbody tr th {\n",
       "        vertical-align: top;\n",
       "    }\n",
       "\n",
       "    .dataframe thead th {\n",
       "        text-align: right;\n",
       "    }\n",
       "</style>\n",
       "<table border=\"1\" class=\"dataframe\">\n",
       "  <thead>\n",
       "    <tr style=\"text-align: right;\">\n",
       "      <th></th>\n",
       "      <th>Month</th>\n",
       "      <th>Passengers</th>\n",
       "      <th>year</th>\n",
       "      <th>month</th>\n",
       "    </tr>\n",
       "  </thead>\n",
       "  <tbody>\n",
       "    <tr>\n",
       "      <th>0</th>\n",
       "      <td>1949-01</td>\n",
       "      <td>112</td>\n",
       "      <td>1949</td>\n",
       "      <td>01</td>\n",
       "    </tr>\n",
       "    <tr>\n",
       "      <th>1</th>\n",
       "      <td>1949-02</td>\n",
       "      <td>118</td>\n",
       "      <td>1949</td>\n",
       "      <td>02</td>\n",
       "    </tr>\n",
       "    <tr>\n",
       "      <th>2</th>\n",
       "      <td>1949-03</td>\n",
       "      <td>132</td>\n",
       "      <td>1949</td>\n",
       "      <td>03</td>\n",
       "    </tr>\n",
       "    <tr>\n",
       "      <th>3</th>\n",
       "      <td>1949-04</td>\n",
       "      <td>129</td>\n",
       "      <td>1949</td>\n",
       "      <td>04</td>\n",
       "    </tr>\n",
       "    <tr>\n",
       "      <th>4</th>\n",
       "      <td>1949-05</td>\n",
       "      <td>121</td>\n",
       "      <td>1949</td>\n",
       "      <td>05</td>\n",
       "    </tr>\n",
       "  </tbody>\n",
       "</table>\n",
       "</div>"
      ],
      "text/plain": [
       "     Month  Passengers  year month\n",
       "0  1949-01         112  1949    01\n",
       "1  1949-02         118  1949    02\n",
       "2  1949-03         132  1949    03\n",
       "3  1949-04         129  1949    04\n",
       "4  1949-05         121  1949    05"
      ]
     },
     "execution_count": 4,
     "metadata": {},
     "output_type": "execute_result"
    }
   ],
   "source": [
    "spam = data['Month'].str.split(\"-\", expand=True)\n",
    "data['year'] = spam[0]\n",
    "data['month'] = spam[1]\n",
    "data.head()"
   ]
  },
  {
   "cell_type": "code",
   "execution_count": 5,
   "metadata": {},
   "outputs": [
    {
     "name": "stdout",
     "output_type": "stream",
     "text": [
      "(144, 3)\n"
     ]
    },
    {
     "data": {
      "text/html": [
       "<div>\n",
       "<style scoped>\n",
       "    .dataframe tbody tr th:only-of-type {\n",
       "        vertical-align: middle;\n",
       "    }\n",
       "\n",
       "    .dataframe tbody tr th {\n",
       "        vertical-align: top;\n",
       "    }\n",
       "\n",
       "    .dataframe thead th {\n",
       "        text-align: right;\n",
       "    }\n",
       "</style>\n",
       "<table border=\"1\" class=\"dataframe\">\n",
       "  <thead>\n",
       "    <tr style=\"text-align: right;\">\n",
       "      <th></th>\n",
       "      <th>Passengers</th>\n",
       "      <th>year</th>\n",
       "      <th>month</th>\n",
       "    </tr>\n",
       "  </thead>\n",
       "  <tbody>\n",
       "    <tr>\n",
       "      <th>0</th>\n",
       "      <td>112</td>\n",
       "      <td>1949</td>\n",
       "      <td>01</td>\n",
       "    </tr>\n",
       "    <tr>\n",
       "      <th>1</th>\n",
       "      <td>118</td>\n",
       "      <td>1949</td>\n",
       "      <td>02</td>\n",
       "    </tr>\n",
       "    <tr>\n",
       "      <th>2</th>\n",
       "      <td>132</td>\n",
       "      <td>1949</td>\n",
       "      <td>03</td>\n",
       "    </tr>\n",
       "    <tr>\n",
       "      <th>3</th>\n",
       "      <td>129</td>\n",
       "      <td>1949</td>\n",
       "      <td>04</td>\n",
       "    </tr>\n",
       "    <tr>\n",
       "      <th>4</th>\n",
       "      <td>121</td>\n",
       "      <td>1949</td>\n",
       "      <td>05</td>\n",
       "    </tr>\n",
       "  </tbody>\n",
       "</table>\n",
       "</div>"
      ],
      "text/plain": [
       "   Passengers  year month\n",
       "0         112  1949    01\n",
       "1         118  1949    02\n",
       "2         132  1949    03\n",
       "3         129  1949    04\n",
       "4         121  1949    05"
      ]
     },
     "execution_count": 5,
     "metadata": {},
     "output_type": "execute_result"
    }
   ],
   "source": [
    "data = data.iloc[:, 1:]\n",
    "print(data.shape)\n",
    "data.head()"
   ]
  },
  {
   "cell_type": "code",
   "execution_count": 6,
   "metadata": {},
   "outputs": [
    {
     "data": {
      "text/plain": [
       "((90, 3), (49, 3))"
      ]
     },
     "execution_count": 6,
     "metadata": {},
     "output_type": "execute_result"
    }
   ],
   "source": [
    "train_size = 90\n",
    "\n",
    "# отступ теста от тренировки\n",
    "bias = 5\n",
    "\n",
    "# делим\n",
    "train_data = data.iloc[:train_size]\n",
    "val_data = data.iloc[train_size + bias:]\n",
    "\n",
    "train_data.shape, val_data.shape"
   ]
  },
  {
   "cell_type": "code",
   "execution_count": 7,
   "metadata": {},
   "outputs": [],
   "source": [
    "features = train_data.columns[1:]\n",
    "target = train_data.columns[0]"
   ]
  },
  {
   "cell_type": "code",
   "execution_count": 8,
   "metadata": {},
   "outputs": [
    {
     "data": {
      "text/html": [
       "<div>\n",
       "<style scoped>\n",
       "    .dataframe tbody tr th:only-of-type {\n",
       "        vertical-align: middle;\n",
       "    }\n",
       "\n",
       "    .dataframe tbody tr th {\n",
       "        vertical-align: top;\n",
       "    }\n",
       "\n",
       "    .dataframe thead th {\n",
       "        text-align: right;\n",
       "    }\n",
       "</style>\n",
       "<table border=\"1\" class=\"dataframe\">\n",
       "  <thead>\n",
       "    <tr style=\"text-align: right;\">\n",
       "      <th></th>\n",
       "      <th>Passengers</th>\n",
       "      <th>year</th>\n",
       "      <th>month</th>\n",
       "    </tr>\n",
       "  </thead>\n",
       "  <tbody>\n",
       "    <tr>\n",
       "      <th>0</th>\n",
       "      <td>112</td>\n",
       "      <td>-1.502191</td>\n",
       "      <td>-1.537902</td>\n",
       "    </tr>\n",
       "    <tr>\n",
       "      <th>1</th>\n",
       "      <td>118</td>\n",
       "      <td>-1.502191</td>\n",
       "      <td>-1.247732</td>\n",
       "    </tr>\n",
       "    <tr>\n",
       "      <th>2</th>\n",
       "      <td>132</td>\n",
       "      <td>-1.502191</td>\n",
       "      <td>-0.957561</td>\n",
       "    </tr>\n",
       "    <tr>\n",
       "      <th>3</th>\n",
       "      <td>129</td>\n",
       "      <td>-1.502191</td>\n",
       "      <td>-0.667391</td>\n",
       "    </tr>\n",
       "    <tr>\n",
       "      <th>4</th>\n",
       "      <td>121</td>\n",
       "      <td>-1.502191</td>\n",
       "      <td>-0.377221</td>\n",
       "    </tr>\n",
       "  </tbody>\n",
       "</table>\n",
       "</div>"
      ],
      "text/plain": [
       "   Passengers      year     month\n",
       "0         112 -1.502191 -1.537902\n",
       "1         118 -1.502191 -1.247732\n",
       "2         132 -1.502191 -0.957561\n",
       "3         129 -1.502191 -0.667391\n",
       "4         121 -1.502191 -0.377221"
      ]
     },
     "execution_count": 8,
     "metadata": {},
     "output_type": "execute_result"
    }
   ],
   "source": [
    "scaler = StandardScaler()\n",
    "\n",
    "train_data[features] = scaler.fit_transform(train_data[features])\n",
    "val_data[features] = scaler.transform(val_data[features])\n",
    "\n",
    "train_data.head()"
   ]
  },
  {
   "cell_type": "code",
   "execution_count": 9,
   "metadata": {},
   "outputs": [
    {
     "data": {
      "text/html": [
       "<div>\n",
       "<style scoped>\n",
       "    .dataframe tbody tr th:only-of-type {\n",
       "        vertical-align: middle;\n",
       "    }\n",
       "\n",
       "    .dataframe tbody tr th {\n",
       "        vertical-align: top;\n",
       "    }\n",
       "\n",
       "    .dataframe thead th {\n",
       "        text-align: right;\n",
       "    }\n",
       "</style>\n",
       "<table border=\"1\" class=\"dataframe\">\n",
       "  <thead>\n",
       "    <tr style=\"text-align: right;\">\n",
       "      <th></th>\n",
       "      <th>Passengers</th>\n",
       "      <th>year</th>\n",
       "      <th>month</th>\n",
       "    </tr>\n",
       "  </thead>\n",
       "  <tbody>\n",
       "    <tr>\n",
       "      <th>85</th>\n",
       "      <td>277</td>\n",
       "      <td>1.71679</td>\n",
       "      <td>-1.247732</td>\n",
       "    </tr>\n",
       "    <tr>\n",
       "      <th>86</th>\n",
       "      <td>317</td>\n",
       "      <td>1.71679</td>\n",
       "      <td>-0.957561</td>\n",
       "    </tr>\n",
       "    <tr>\n",
       "      <th>87</th>\n",
       "      <td>313</td>\n",
       "      <td>1.71679</td>\n",
       "      <td>-0.667391</td>\n",
       "    </tr>\n",
       "    <tr>\n",
       "      <th>88</th>\n",
       "      <td>318</td>\n",
       "      <td>1.71679</td>\n",
       "      <td>-0.377221</td>\n",
       "    </tr>\n",
       "    <tr>\n",
       "      <th>89</th>\n",
       "      <td>374</td>\n",
       "      <td>1.71679</td>\n",
       "      <td>-0.087051</td>\n",
       "    </tr>\n",
       "  </tbody>\n",
       "</table>\n",
       "</div>"
      ],
      "text/plain": [
       "    Passengers     year     month\n",
       "85         277  1.71679 -1.247732\n",
       "86         317  1.71679 -0.957561\n",
       "87         313  1.71679 -0.667391\n",
       "88         318  1.71679 -0.377221\n",
       "89         374  1.71679 -0.087051"
      ]
     },
     "execution_count": 9,
     "metadata": {},
     "output_type": "execute_result"
    }
   ],
   "source": [
    "train_data.tail()"
   ]
  },
  {
   "cell_type": "code",
   "execution_count": 10,
   "metadata": {},
   "outputs": [],
   "source": [
    "# длина истории\n",
    "x_len = 7\n",
    "\n",
    "# горизонт предсказания\n",
    "future = 1\n",
    "\n",
    "# параметры модели для обучения\n",
    "learning_rate = 0.001\n",
    "batch_size = 16\n",
    "epochs = 50"
   ]
  },
  {
   "cell_type": "code",
   "execution_count": 11,
   "metadata": {},
   "outputs": [
    {
     "name": "stdout",
     "output_type": "stream",
     "text": [
      "8 98\n",
      "41 103\n"
     ]
    }
   ],
   "source": [
    "start = x_len + future\n",
    "end = start + train_size\n",
    "\n",
    "print(start, end)\n",
    "\n",
    "X_train = train_data[features].values\n",
    "y_train = data.iloc[start:end][target].values\n",
    "\n",
    "\n",
    "x_end = len(val_data) - x_len - future\n",
    "label_start = len(train_data) + bias + x_len + future\n",
    "print(x_end, label_start)\n",
    "\n",
    "X_val = val_data.iloc[:x_end][features].values\n",
    "y_val = data.iloc[label_start:][target].values"
   ]
  },
  {
   "cell_type": "code",
   "execution_count": 12,
   "metadata": {},
   "outputs": [
    {
     "data": {
      "text/plain": [
       "((90, 2), (90,), (41, 2), (41,))"
      ]
     },
     "execution_count": 12,
     "metadata": {},
     "output_type": "execute_result"
    }
   ],
   "source": [
    "X_train.shape, y_train.shape, X_val.shape, y_val.shape"
   ]
  },
  {
   "cell_type": "code",
   "execution_count": 13,
   "metadata": {},
   "outputs": [
    {
     "data": {
      "image/png": "[encoded data removed]",
      "text/plain": [
       "<Figure size 720x360 with 1 Axes>"
      ]
     },
     "metadata": {
      "needs_background": "light"
     },
     "output_type": "display_data"
    }
   ],
   "source": [
    "plt.figure(figsize=(10, 5))\n",
    "plt.plot(data.index[x_len:y_train.shape[0]+x_len],y_train[:])\n",
    "plt.plot(data.index[y_train.shape[0]+x_len+bias+future:],y_val[:])\n",
    "plt.grid('on')\n",
    "plt.xlabel('Время')\n",
    "plt.ylabel('Значение')\n",
    "plt.show()"
   ]
  },
  {
   "cell_type": "code",
   "execution_count": 14,
   "metadata": {},
   "outputs": [],
   "source": [
    "dataset_train = timeseries_dataset_from_array(\n",
    "    X_train,\n",
    "    y_train,\n",
    "    sequence_length=x_len,\n",
    "    sampling_rate=1,\n",
    "    batch_size=batch_size,\n",
    ")\n",
    "\n",
    "dataset_val = timeseries_dataset_from_array(\n",
    "    X_val,\n",
    "    y_val,\n",
    "    sequence_length=x_len,\n",
    "    sampling_rate=1,\n",
    "    batch_size=batch_size,\n",
    ")"
   ]
  },
  {
   "cell_type": "code",
   "execution_count": 15,
   "metadata": {
    "scrolled": true
   },
   "outputs": [
    {
     "name": "stdout",
     "output_type": "stream",
     "text": [
      "Input shape: (16, 7, 2)\n",
      "tf.Tensor(\n",
      "[[-1.50219138 -1.24773159]\n",
      " [-1.50219138 -0.95756146]\n",
      " [-1.50219138 -0.66739132]\n",
      " [-1.50219138 -0.37722118]\n",
      " [-1.50219138 -0.08705104]\n",
      " [-1.50219138  0.2031191 ]\n",
      " [-1.50219138  0.49328923]], shape=(7, 2), dtype=float64)\n",
      "Target shape: (16,)\n",
      "tf.Tensor(119, shape=(), dtype=int64)\n"
     ]
    }
   ],
   "source": [
    "for batch in dataset_train.take(1):\n",
    "    inputs, targets = batch\n",
    "    print(\"Input shape:\", inputs.shape)\n",
    "    print(inputs[1])\n",
    "    print(\"Target shape:\", targets.shape)\n",
    "    print(targets[1])"
   ]
  },
  {
   "cell_type": "markdown",
   "metadata": {},
   "source": [
    "**сеть:  LSTM слои + Conv1D + Dense слой**"
   ]
  },
  {
   "cell_type": "code",
   "execution_count": 16,
   "metadata": {},
   "outputs": [
    {
     "name": "stdout",
     "output_type": "stream",
     "text": [
      "Model: \"sequential\"\n",
      "_________________________________________________________________\n",
      "Layer (type)                 Output Shape              Param #   \n",
      "=================================================================\n",
      "lstm (LSTM)                  (None, 7, 32)             4480      \n",
      "_________________________________________________________________\n",
      "lstm_1 (LSTM)                (None, 7, 32)             8320      \n",
      "_________________________________________________________________\n",
      "conv1d (Conv1D)              (None, 5, 64)             6208      \n",
      "_________________________________________________________________\n",
      "conv1d_1 (Conv1D)            (None, 5, 64)             4160      \n",
      "_________________________________________________________________\n",
      "flatten (Flatten)            (None, 320)               0         \n",
      "_________________________________________________________________\n",
      "dense (Dense)                (None, 3)                 963       \n",
      "_________________________________________________________________\n",
      "dense_1 (Dense)              (None, 1)                 4         \n",
      "=================================================================\n",
      "Total params: 24,135\n",
      "Trainable params: 24,135\n",
      "Non-trainable params: 0\n",
      "_________________________________________________________________\n"
     ]
    }
   ],
   "source": [
    "early_stop = EarlyStopping(monitor='val_mae', patience=5)\n",
    "\n",
    "model = Sequential()\n",
    "\n",
    "model.add(LSTM(32, input_shape=(inputs.shape[1], inputs.shape[2]),\n",
    "               return_sequences=True))\n",
    "model.add(LSTM(32, return_sequences=True))\n",
    "model.add(Conv1D(64, 3, activation='linear'))\n",
    "model.add(Conv1D(64, 1, activation='linear'))\n",
    "model.add(Flatten())\n",
    "model.add(Dense(3, activation='linear'))\n",
    "model.add(Dense(1, activation='linear'))\n",
    "\n",
    "model.compile(loss='mse', optimizer='adam', metrics=['mae'])\n",
    "model.summary()"
   ]
  },
  {
   "cell_type": "code",
   "execution_count": 17,
   "metadata": {
    "scrolled": true
   },
   "outputs": [
    {
     "name": "stdout",
     "output_type": "stream",
     "text": [
      "Epoch 1/50\n",
      "6/6 [==============================] - 2s 118ms/step - loss: 37725.6699 - mae: 185.2067 - val_loss: 170704.0000 - val_mae: 407.6030\n",
      "Epoch 2/50\n",
      "6/6 [==============================] - 0s 17ms/step - loss: 37583.6141 - mae: 184.8135 - val_loss: 170125.9531 - val_mae: 406.8999\n",
      "Epoch 3/50\n",
      "6/6 [==============================] - 0s 17ms/step - loss: 37415.7665 - mae: 184.4079 - val_loss: 169031.5781 - val_mae: 405.5651\n",
      "Epoch 4/50\n",
      "6/6 [==============================] - 0s 16ms/step - loss: 37062.7478 - mae: 183.5499 - val_loss: 166654.2188 - val_mae: 402.6502\n",
      "Epoch 5/50\n",
      "6/6 [==============================] - 0s 16ms/step - loss: 36287.1855 - mae: 181.6587 - val_loss: 161285.8438 - val_mae: 395.9888\n",
      "Epoch 6/50\n",
      "6/6 [==============================] - 0s 16ms/step - loss: 34559.3178 - mae: 177.3935 - val_loss: 149200.6250 - val_mae: 380.5612\n",
      "Epoch 7/50\n",
      "6/6 [==============================] - 0s 15ms/step - loss: 30775.1253 - mae: 167.6827 - val_loss: 123455.3750 - val_mae: 345.3845\n",
      "Epoch 8/50\n",
      "6/6 [==============================] - 0s 16ms/step - loss: 23069.9570 - mae: 145.6616 - val_loss: 76206.2344 - val_mae: 269.0425\n",
      "Epoch 9/50\n",
      "6/6 [==============================] - 0s 15ms/step - loss: 10534.7464 - mae: 97.1454 - val_loss: 17994.4180 - val_mae: 120.7530\n",
      "Epoch 10/50\n",
      "6/6 [==============================] - 0s 16ms/step - loss: 2667.1214 - mae: 43.4987 - val_loss: 5014.4321 - val_mae: 63.3714\n",
      "Epoch 11/50\n",
      "6/6 [==============================] - 0s 15ms/step - loss: 7030.9076 - mae: 69.5660 - val_loss: 3612.5349 - val_mae: 52.2964\n",
      "Epoch 12/50\n",
      "6/6 [==============================] - 0s 16ms/step - loss: 1506.7857 - mae: 29.3000 - val_loss: 6525.1450 - val_mae: 60.3403\n",
      "Epoch 13/50\n",
      "6/6 [==============================] - 0s 16ms/step - loss: 1145.7166 - mae: 28.4942 - val_loss: 6342.1821 - val_mae: 59.1256\n",
      "Epoch 14/50\n",
      "6/6 [==============================] - 0s 16ms/step - loss: 893.5623 - mae: 25.8069 - val_loss: 3788.2969 - val_mae: 48.4022\n",
      "Epoch 15/50\n",
      "6/6 [==============================] - 0s 16ms/step - loss: 774.9174 - mae: 20.9988 - val_loss: 3733.8262 - val_mae: 52.2492\n",
      "Epoch 16/50\n",
      "6/6 [==============================] - 0s 15ms/step - loss: 699.4345 - mae: 18.9802 - val_loss: 3552.5452 - val_mae: 47.7199\n",
      "Epoch 17/50\n",
      "6/6 [==============================] - 0s 16ms/step - loss: 470.5563 - mae: 16.4698 - val_loss: 3897.9419 - val_mae: 47.5887\n",
      "Epoch 18/50\n",
      "6/6 [==============================] - 0s 16ms/step - loss: 466.9611 - mae: 17.3256 - val_loss: 3674.7703 - val_mae: 46.5538\n",
      "Epoch 19/50\n",
      "6/6 [==============================] - 0s 16ms/step - loss: 478.5607 - mae: 17.2594 - val_loss: 3320.1929 - val_mae: 45.8378\n",
      "Epoch 20/50\n",
      "6/6 [==============================] - 0s 16ms/step - loss: 506.9049 - mae: 17.3193 - val_loss: 3225.1514 - val_mae: 45.6249\n",
      "Epoch 21/50\n",
      "6/6 [==============================] - 0s 16ms/step - loss: 472.7169 - mae: 16.8901 - val_loss: 3232.2527 - val_mae: 45.0444\n",
      "Epoch 22/50\n",
      "6/6 [==============================] - 0s 16ms/step - loss: 435.9363 - mae: 16.4808 - val_loss: 3193.8347 - val_mae: 44.7153\n",
      "Epoch 23/50\n",
      "6/6 [==============================] - 0s 16ms/step - loss: 424.0039 - mae: 16.2200 - val_loss: 3086.7278 - val_mae: 44.5681\n",
      "Epoch 24/50\n",
      "6/6 [==============================] - 0s 16ms/step - loss: 417.1757 - mae: 15.8272 - val_loss: 3012.2737 - val_mae: 44.5815\n",
      "Epoch 25/50\n",
      "6/6 [==============================] - 0s 16ms/step - loss: 402.1410 - mae: 15.5479 - val_loss: 2963.9121 - val_mae: 44.2433\n",
      "Epoch 26/50\n",
      "6/6 [==============================] - 0s 16ms/step - loss: 384.4116 - mae: 15.3073 - val_loss: 2913.6633 - val_mae: 43.8935\n",
      "Epoch 27/50\n",
      "6/6 [==============================] - 0s 16ms/step - loss: 374.4616 - mae: 15.1458 - val_loss: 2853.6980 - val_mae: 43.7071\n",
      "Epoch 28/50\n",
      "6/6 [==============================] - 0s 16ms/step - loss: 369.1171 - mae: 15.0302 - val_loss: 2797.4529 - val_mae: 43.5257\n",
      "Epoch 29/50\n",
      "6/6 [==============================] - 0s 16ms/step - loss: 362.8329 - mae: 14.9367 - val_loss: 2746.2576 - val_mae: 43.2396\n",
      "Epoch 30/50\n",
      "6/6 [==============================] - 0s 16ms/step - loss: 355.4287 - mae: 14.8618 - val_loss: 2696.9277 - val_mae: 42.9323\n",
      "Epoch 31/50\n",
      "6/6 [==============================] - 0s 17ms/step - loss: 349.6616 - mae: 14.7849 - val_loss: 2649.8406 - val_mae: 42.6738\n",
      "Epoch 32/50\n",
      "6/6 [==============================] - 0s 15ms/step - loss: 345.4572 - mae: 14.7270 - val_loss: 2605.4795 - val_mae: 42.4518\n",
      "Epoch 33/50\n",
      "6/6 [==============================] - 0s 16ms/step - loss: 341.3603 - mae: 14.6673 - val_loss: 2562.1367 - val_mae: 42.2444\n",
      "Epoch 34/50\n",
      "6/6 [==============================] - 0s 15ms/step - loss: 337.2232 - mae: 14.5930 - val_loss: 2519.6941 - val_mae: 42.0141\n",
      "Epoch 35/50\n",
      "6/6 [==============================] - 0s 15ms/step - loss: 333.7571 - mae: 14.5279 - val_loss: 2479.0615 - val_mae: 41.8009\n",
      "Epoch 36/50\n",
      "6/6 [==============================] - 0s 15ms/step - loss: 330.9450 - mae: 14.4689 - val_loss: 2439.5393 - val_mae: 41.5778\n",
      "Epoch 37/50\n",
      "6/6 [==============================] - 0s 15ms/step - loss: 328.3357 - mae: 14.4079 - val_loss: 2400.1392 - val_mae: 41.3234\n",
      "Epoch 38/50\n",
      "6/6 [==============================] - 0s 16ms/step - loss: 325.8651 - mae: 14.3478 - val_loss: 2361.3450 - val_mae: 41.0553\n",
      "Epoch 39/50\n",
      "6/6 [==============================] - 0s 15ms/step - loss: 323.6895 - mae: 14.2877 - val_loss: 2323.6628 - val_mae: 40.7856\n",
      "Epoch 40/50\n",
      "6/6 [==============================] - 0s 16ms/step - loss: 321.7512 - mae: 14.2417 - val_loss: 2286.6282 - val_mae: 40.5055\n",
      "Epoch 41/50\n",
      "6/6 [==============================] - 0s 16ms/step - loss: 319.9016 - mae: 14.1906 - val_loss: 2249.9468 - val_mae: 40.2115\n",
      "Epoch 42/50\n",
      "6/6 [==============================] - 0s 16ms/step - loss: 318.1191 - mae: 14.1373 - val_loss: 2213.9065 - val_mae: 39.9108\n",
      "Epoch 43/50\n",
      "6/6 [==============================] - 0s 15ms/step - loss: 316.4267 - mae: 14.0824 - val_loss: 2178.5623 - val_mae: 39.6053\n",
      "Epoch 44/50\n",
      "6/6 [==============================] - 0s 15ms/step - loss: 314.7832 - mae: 14.0239 - val_loss: 2143.6726 - val_mae: 39.2921\n",
      "Epoch 45/50\n",
      "6/6 [==============================] - 0s 16ms/step - loss: 313.1430 - mae: 13.9616 - val_loss: 2109.2539 - val_mae: 38.9726\n",
      "Epoch 46/50\n",
      "6/6 [==============================] - 0s 16ms/step - loss: 311.5001 - mae: 13.8963 - val_loss: 2075.4688 - val_mae: 38.6501\n",
      "Epoch 47/50\n",
      "6/6 [==============================] - 0s 16ms/step - loss: 309.8441 - mae: 13.8342 - val_loss: 2042.3098 - val_mae: 38.3253\n",
      "Epoch 48/50\n",
      "6/6 [==============================] - 0s 15ms/step - loss: 308.1489 - mae: 13.7838 - val_loss: 2009.7344 - val_mae: 37.9983\n",
      "Epoch 49/50\n",
      "6/6 [==============================] - 0s 17ms/step - loss: 306.3985 - mae: 13.7368 - val_loss: 1977.8011 - val_mae: 37.6708\n",
      "Epoch 50/50\n",
      "6/6 [==============================] - 0s 16ms/step - loss: 304.5883 - mae: 13.6983 - val_loss: 1946.5348 - val_mae: 37.3438\n"
     ]
    }
   ],
   "source": [
    "history = model.fit(dataset_train,\n",
    "                    epochs=epochs,\n",
    "                    validation_data=dataset_val,\n",
    "                    callbacks=[early_stop])"
   ]
  },
  {
   "cell_type": "code",
   "execution_count": 18,
   "metadata": {},
   "outputs": [
    {
     "data": {
      "image/png": "[encoded data removed]",
      "text/plain": [
       "<Figure size 432x288 with 1 Axes>"
      ]
     },
     "metadata": {
      "needs_background": "light"
     },
     "output_type": "display_data"
    }
   ],
   "source": [
    "plt.plot(history.history['mae'][:], \n",
    "         label='MAE на обучающем наборе')\n",
    "plt.plot(history.history['val_mae'][:], \n",
    "         label='MAE на проверочном наборе')\n",
    "\n",
    "plt.ylabel('Средняя ошибка')\n",
    "plt.legend()\n",
    "plt.show()"
   ]
  },
  {
   "cell_type": "code",
   "execution_count": 19,
   "metadata": {},
   "outputs": [],
   "source": [
    "hist_val = history.history['val_mae']\n",
    "hist_train = history.history['mae']"
   ]
  },
  {
   "cell_type": "code",
   "execution_count": 20,
   "metadata": {
    "scrolled": true
   },
   "outputs": [
    {
     "name": "stdout",
     "output_type": "stream",
     "text": [
      "Epoch 1/50\n",
      "6/6 [==============================] - 0s 17ms/step - loss: 326.6250 - mae: 14.2192 - val_loss: 1915.9071 - val_mae: 37.0177\n",
      "Epoch 2/50\n",
      "6/6 [==============================] - 0s 16ms/step - loss: 323.5242 - mae: 14.1477 - val_loss: 1885.9170 - val_mae: 36.6930\n",
      "Epoch 3/50\n",
      "6/6 [==============================] - 0s 16ms/step - loss: 320.5341 - mae: 14.0753 - val_loss: 1856.5751 - val_mae: 36.3704\n",
      "Epoch 4/50\n",
      "6/6 [==============================] - 0s 16ms/step - loss: 317.6375 - mae: 14.0082 - val_loss: 1827.8650 - val_mae: 36.0504\n",
      "Epoch 5/50\n",
      "6/6 [==============================] - 0s 16ms/step - loss: 314.8182 - mae: 13.9404 - val_loss: 1799.7679 - val_mae: 35.7331\n",
      "Epoch 6/50\n",
      "6/6 [==============================] - 0s 16ms/step - loss: 312.0649 - mae: 13.8769 - val_loss: 1772.2701 - val_mae: 35.4187\n",
      "Epoch 7/50\n",
      "6/6 [==============================] - 0s 16ms/step - loss: 309.3682 - mae: 13.8140 - val_loss: 1745.3519 - val_mae: 35.1073\n",
      "Epoch 8/50\n",
      "6/6 [==============================] - 0s 16ms/step - loss: 306.7209 - mae: 13.7558 - val_loss: 1718.9858 - val_mae: 34.7988\n",
      "Epoch 9/50\n",
      "6/6 [==============================] - 0s 15ms/step - loss: 304.1172 - mae: 13.6950 - val_loss: 1693.1493 - val_mae: 34.4932\n",
      "Epoch 10/50\n",
      "6/6 [==============================] - 0s 16ms/step - loss: 301.5537 - mae: 13.6318 - val_loss: 1667.8206 - val_mae: 34.1904\n",
      "Epoch 11/50\n",
      "6/6 [==============================] - 0s 16ms/step - loss: 299.0282 - mae: 13.5668 - val_loss: 1642.9755 - val_mae: 33.8901\n",
      "Epoch 12/50\n",
      "6/6 [==============================] - 0s 16ms/step - loss: 296.5382 - mae: 13.5051 - val_loss: 1618.5940 - val_mae: 33.5923\n",
      "Epoch 13/50\n",
      "6/6 [==============================] - 0s 16ms/step - loss: 294.0837 - mae: 13.4434 - val_loss: 1594.6566 - val_mae: 33.2966\n",
      "Epoch 14/50\n",
      "6/6 [==============================] - 0s 15ms/step - loss: 291.6645 - mae: 13.3821 - val_loss: 1571.1484 - val_mae: 33.0030\n",
      "Epoch 15/50\n",
      "6/6 [==============================] - 0s 15ms/step - loss: 289.2805 - mae: 13.3221 - val_loss: 1548.0522 - val_mae: 32.7112\n",
      "Epoch 16/50\n",
      "6/6 [==============================] - 0s 16ms/step - loss: 286.9316 - mae: 13.2615 - val_loss: 1525.3572 - val_mae: 32.4389\n",
      "Epoch 17/50\n",
      "6/6 [==============================] - 0s 15ms/step - loss: 284.6188 - mae: 13.2004 - val_loss: 1503.0552 - val_mae: 32.1721\n",
      "Epoch 18/50\n",
      "6/6 [==============================] - 0s 15ms/step - loss: 282.3425 - mae: 13.1399 - val_loss: 1481.1390 - val_mae: 31.9060\n",
      "Epoch 19/50\n",
      "6/6 [==============================] - 0s 15ms/step - loss: 280.1030 - mae: 13.0802 - val_loss: 1459.6061 - val_mae: 31.6406\n",
      "Epoch 20/50\n",
      "6/6 [==============================] - 0s 15ms/step - loss: 277.9003 - mae: 13.0214 - val_loss: 1438.4543 - val_mae: 31.3758\n",
      "Epoch 21/50\n",
      "6/6 [==============================] - 0s 15ms/step - loss: 275.7349 - mae: 12.9632 - val_loss: 1417.6854 - val_mae: 31.1116\n",
      "Epoch 22/50\n",
      "6/6 [==============================] - 0s 15ms/step - loss: 273.6068 - mae: 12.9048 - val_loss: 1397.3016 - val_mae: 30.8481\n",
      "Epoch 23/50\n",
      "6/6 [==============================] - 0s 15ms/step - loss: 271.5161 - mae: 12.8501 - val_loss: 1377.3082 - val_mae: 30.5851\n",
      "Epoch 24/50\n",
      "6/6 [==============================] - 0s 15ms/step - loss: 269.4621 - mae: 12.7980 - val_loss: 1357.7112 - val_mae: 30.3229\n",
      "Epoch 25/50\n",
      "6/6 [==============================] - 0s 15ms/step - loss: 267.4451 - mae: 12.7457 - val_loss: 1338.5172 - val_mae: 30.0931\n",
      "Epoch 26/50\n",
      "6/6 [==============================] - 0s 15ms/step - loss: 265.4646 - mae: 12.6936 - val_loss: 1319.7346 - val_mae: 29.8724\n",
      "Epoch 27/50\n",
      "6/6 [==============================] - 0s 15ms/step - loss: 263.5198 - mae: 12.6436 - val_loss: 1301.3719 - val_mae: 29.6535\n",
      "Epoch 28/50\n",
      "6/6 [==============================] - 0s 14ms/step - loss: 261.6104 - mae: 12.5936 - val_loss: 1283.4369 - val_mae: 29.4463\n",
      "Epoch 29/50\n",
      "6/6 [==============================] - 0s 16ms/step - loss: 259.7360 - mae: 12.5467 - val_loss: 1265.9370 - val_mae: 29.2462\n",
      "Epoch 30/50\n",
      "6/6 [==============================] - 0s 15ms/step - loss: 257.8952 - mae: 12.5015 - val_loss: 1248.8799 - val_mae: 29.0474\n",
      "Epoch 31/50\n",
      "6/6 [==============================] - 0s 15ms/step - loss: 256.0881 - mae: 12.4562 - val_loss: 1232.2733 - val_mae: 28.8501\n",
      "Epoch 32/50\n",
      "6/6 [==============================] - 0s 15ms/step - loss: 254.3137 - mae: 12.4133 - val_loss: 1216.1215 - val_mae: 28.6542\n",
      "Epoch 33/50\n",
      "6/6 [==============================] - 0s 15ms/step - loss: 252.5706 - mae: 12.3742 - val_loss: 1200.4291 - val_mae: 28.4600\n",
      "Epoch 34/50\n",
      "6/6 [==============================] - 0s 15ms/step - loss: 250.8588 - mae: 12.3369 - val_loss: 1185.1995 - val_mae: 28.2675\n",
      "Epoch 35/50\n",
      "6/6 [==============================] - 0s 15ms/step - loss: 249.1770 - mae: 12.3010 - val_loss: 1170.4344 - val_mae: 28.0768\n",
      "Epoch 36/50\n",
      "6/6 [==============================] - 0s 16ms/step - loss: 247.5242 - mae: 12.2653 - val_loss: 1156.1343 - val_mae: 27.8881\n",
      "Epoch 37/50\n",
      "6/6 [==============================] - 0s 16ms/step - loss: 245.8999 - mae: 12.2297 - val_loss: 1142.2980 - val_mae: 27.7014\n",
      "Epoch 38/50\n",
      "6/6 [==============================] - 0s 15ms/step - loss: 244.3028 - mae: 12.1957 - val_loss: 1128.9204 - val_mae: 27.5168\n",
      "Epoch 39/50\n",
      "6/6 [==============================] - 0s 16ms/step - loss: 242.7321 - mae: 12.1615 - val_loss: 1116.0005 - val_mae: 27.3345\n",
      "Epoch 40/50\n",
      "6/6 [==============================] - 0s 16ms/step - loss: 241.1870 - mae: 12.1271 - val_loss: 1103.5317 - val_mae: 27.1545\n",
      "Epoch 41/50\n",
      "6/6 [==============================] - 0s 14ms/step - loss: 239.6664 - mae: 12.0926 - val_loss: 1091.5077 - val_mae: 26.9770\n",
      "Epoch 42/50\n",
      "6/6 [==============================] - 0s 15ms/step - loss: 238.1696 - mae: 12.0579 - val_loss: 1079.9192 - val_mae: 26.8020\n",
      "Epoch 43/50\n",
      "6/6 [==============================] - 0s 16ms/step - loss: 236.6950 - mae: 12.0231 - val_loss: 1068.7595 - val_mae: 26.6378\n",
      "Epoch 44/50\n",
      "6/6 [==============================] - 0s 15ms/step - loss: 235.2428 - mae: 11.9881 - val_loss: 1058.0200 - val_mae: 26.4790\n",
      "Epoch 45/50\n",
      "6/6 [==============================] - 0s 15ms/step - loss: 233.8109 - mae: 11.9529 - val_loss: 1047.6898 - val_mae: 26.3218\n",
      "Epoch 46/50\n",
      "6/6 [==============================] - 0s 15ms/step - loss: 232.3993 - mae: 11.9175 - val_loss: 1037.7615 - val_mae: 26.1663\n",
      "Epoch 47/50\n",
      "6/6 [==============================] - 0s 15ms/step - loss: 231.0064 - mae: 11.8820 - val_loss: 1028.2233 - val_mae: 26.0124\n",
      "Epoch 48/50\n",
      "6/6 [==============================] - 0s 15ms/step - loss: 229.6320 - mae: 11.8463 - val_loss: 1019.0681 - val_mae: 25.8602\n",
      "Epoch 49/50\n",
      "6/6 [==============================] - 0s 15ms/step - loss: 228.2747 - mae: 11.8104 - val_loss: 1010.2866 - val_mae: 25.7096\n",
      "Epoch 50/50\n",
      "6/6 [==============================] - 0s 15ms/step - loss: 226.9339 - mae: 11.7744 - val_loss: 1001.8710 - val_mae: 25.5608\n"
     ]
    },
    {
     "data": {
      "image/png": "[encoded data removed]",
      "text/plain": [
       "<Figure size 432x288 with 1 Axes>"
      ]
     },
     "metadata": {
      "needs_background": "light"
     },
     "output_type": "display_data"
    }
   ],
   "source": [
    "history = model.fit(dataset_train,\n",
    "                    epochs=epochs,\n",
    "                    validation_data=dataset_val,\n",
    "                    callbacks=[early_stop])\n",
    "\n",
    "hist_val.extend(history.history['val_mae'][:])\n",
    "hist_train.extend(history.history['mae'][:])\n",
    "\n",
    "\n",
    "plt.plot(hist_train, \n",
    "         label='MAE на обучающем наборе')\n",
    "plt.plot(hist_val, \n",
    "         label='MAE на проверочном наборе')\n",
    "\n",
    "plt.ylabel('Средняя ошибка')\n",
    "plt.legend()\n",
    "plt.show()"
   ]
  },
  {
   "cell_type": "markdown",
   "metadata": {},
   "source": [
    "Проверяем результаты:\n",
    "\n",
    "- строим предсказание\n",
    "- рисуем прогноз для тестовой части \n",
    "- рисуем прогноз по тренировочной части"
   ]
  },
  {
   "cell_type": "code",
   "execution_count": 21,
   "metadata": {},
   "outputs": [],
   "source": [
    "pred = model.predict(dataset_train).flatten()\n",
    "pred_val = model.predict(dataset_val).flatten()"
   ]
  },
  {
   "cell_type": "code",
   "execution_count": 22,
   "metadata": {},
   "outputs": [
    {
     "data": {
      "image/png": "[encoded data removed]",
      "text/plain": [
       "<Figure size 720x360 with 1 Axes>"
      ]
     },
     "metadata": {
      "needs_background": "light"
     },
     "output_type": "display_data"
    }
   ],
   "source": [
    "start = 0\n",
    "\n",
    "plt.figure(figsize=(10, 5))\n",
    "plt.grid('on')\n",
    "plt.plot(pred[future + start: future + train_size], \n",
    "         label='Прогноз')\n",
    "plt.plot(y_train.flatten()[start: train_size], \n",
    "         label='Базовый ряд')\n",
    "plt.xlabel('Время')\n",
    "plt.ylabel('Значение')\n",
    "plt.legend()\n",
    "plt.show()"
   ]
  },
  {
   "cell_type": "code",
   "execution_count": 23,
   "metadata": {},
   "outputs": [
    {
     "data": {
      "image/png": "[encoded data removed]",
      "text/plain": [
       "<Figure size 720x360 with 1 Axes>"
      ]
     },
     "metadata": {
      "needs_background": "light"
     },
     "output_type": "display_data"
    }
   ],
   "source": [
    "start = 0\n",
    "step = 34\n",
    "plt.figure(figsize=(10, 5))\n",
    "plt.grid('on')\n",
    "plt.plot(pred_val[future + start: future + start + step], \n",
    "         label='Прогноз')\n",
    "plt.plot(y_val.flatten()[start: start+step], \n",
    "         label='Базовый ряд')\n",
    "plt.xlabel('Время')\n",
    "plt.ylabel('Значение ')\n",
    "\n",
    "plt.legend()\n",
    "plt.show()"
   ]
  },
  {
   "cell_type": "markdown",
   "metadata": {},
   "source": [
    "### 2. Опишите, какой результат вы получили? Что помогло вам улучшить ее точность?"
   ]
  },
  {
   "cell_type": "code",
   "execution_count": 24,
   "metadata": {},
   "outputs": [
    {
     "data": {
      "text/plain": [
       "37.299693388097424"
      ]
     },
     "execution_count": 24,
     "metadata": {},
     "output_type": "execute_result"
    }
   ],
   "source": [
    "mean_absolute_error(y_val.flatten()[start: start+step], pred_val[future + start: future + start + step])"
   ]
  },
  {
   "cell_type": "markdown",
   "metadata": {},
   "source": [
    "Точность модели улучшилась за счет увеличения количества epochs и уменьшения batch_size"
   ]
  },
  {
   "cell_type": "code",
   "execution_count": null,
   "metadata": {},
   "outputs": [],
   "source": []
  }
 ],
 "metadata": {
  "kernelspec": {
   "display_name": "Python 3",
   "language": "python",
   "name": "python3"
  },
  "language_info": {
   "codemirror_mode": {
    "name": "ipython",
    "version": 3
   },
   "file_extension": ".py",
   "mimetype": "text/x-python",
   "name": "python",
   "nbconvert_exporter": "python",
   "pygments_lexer": "ipython3",
   "version": "3.8.5"
  }
 },
 "nbformat": 4,
 "nbformat_minor": 4
}
