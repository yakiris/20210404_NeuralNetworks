{
 "cells": [
  {
   "cell_type": "markdown",
   "metadata": {},
   "source": [
    "# Тема: Сверточные нейронные сети"
   ]
  },
  {
   "cell_type": "code",
   "execution_count": 1,
   "metadata": {},
   "outputs": [],
   "source": [
    "import numpy as np\n",
    "import pandas as pd\n",
    "import matplotlib.pyplot as plt\n",
    "\n",
    "from tensorflow.keras.models import Model\n",
    "from tensorflow.keras.datasets import cifar10\n",
    "from tensorflow.keras.preprocessing.image import ImageDataGenerator\n",
    "from tensorflow.keras.utils import to_categorical\n",
    "from tensorflow.keras.models import Sequential\n",
    "from tensorflow.keras.layers import Input, Dense, Dropout, Activation, Flatten\n",
    "from tensorflow.keras.layers import Conv2D, MaxPooling2D"
   ]
  },
  {
   "cell_type": "markdown",
   "metadata": {},
   "source": [
    "### 1. Oбучить рукописную сверточную нейронную сеть (с падением размера ядра свертки и последовательностью блоков свертка-пулинг (conv-pool)-(conv-pool)-...) на датасете cifar-10"
   ]
  },
  {
   "cell_type": "code",
   "execution_count": 2,
   "metadata": {},
   "outputs": [],
   "source": [
    "classes = ['самолет', 'автомобиль', 'птица', 'кот', 'олень', 'собака', 'лягушка', 'лошадь', 'корабль', 'грузовик']"
   ]
  },
  {
   "cell_type": "code",
   "execution_count": 3,
   "metadata": {},
   "outputs": [
    {
     "name": "stdout",
     "output_type": "stream",
     "text": [
      "X_train shape: (50000, 32, 32, 3)\n",
      "50000 тренировочные примеры\n",
      "10000 тестовые примеры\n"
     ]
    }
   ],
   "source": [
    "# разделение тренировочной и тестовой выборки\n",
    "(X_train, y_train), (X_test, y_test) = cifar10.load_data()\n",
    "print('X_train shape:', X_train.shape)\n",
    "print(X_train.shape[0], 'тренировочные примеры')\n",
    "print(X_test.shape[0], 'тестовые примеры')\n",
    "\n",
    "# преобразование матрицы чисел 0-9 в бинарную матрицу чисел 0-1\n",
    "y_train = to_categorical(y_train, 10)\n",
    "y_test = to_categorical(y_test, 10)\n",
    "\n",
    "X_train = X_train / 255.0\n",
    "X_test = X_test / 255.0"
   ]
  },
  {
   "cell_type": "code",
   "execution_count": 4,
   "metadata": {},
   "outputs": [
    {
     "data": {
      "image/png": "[encoded data removed]",
      "text/plain": [
       "<Figure size 432x288 with 1 Axes>"
      ]
     },
     "metadata": {
      "needs_background": "light"
     },
     "output_type": "display_data"
    }
   ],
   "source": [
    "N = 17\n",
    "\n",
    "plt.imshow(X_test[N])\n",
    "plt.title(classes[np.argmax(y_test[N,:])])\n",
    "plt.show()"
   ]
  },
  {
   "cell_type": "code",
   "execution_count": 5,
   "metadata": {},
   "outputs": [],
   "source": [
    "stats = pd.DataFrame(columns=['Модель', 'Класс Train', 'Класс Test', 'Test loss', 'Test accuracy'])\n",
    "\n",
    "batch_size = 512\n",
    "epochs = 10"
   ]
  },
  {
   "cell_type": "code",
   "execution_count": 6,
   "metadata": {},
   "outputs": [
    {
     "name": "stdout",
     "output_type": "stream",
     "text": [
      "Model: \"sequential\"\n",
      "_________________________________________________________________\n",
      "Layer (type)                 Output Shape              Param #   \n",
      "=================================================================\n",
      "conv2d (Conv2D)              (None, 32, 32, 32)        896       \n",
      "_________________________________________________________________\n",
      "conv2d_1 (Conv2D)            (None, 30, 30, 32)        9248      \n",
      "_________________________________________________________________\n",
      "max_pooling2d (MaxPooling2D) (None, 15, 15, 32)        0         \n",
      "_________________________________________________________________\n",
      "conv2d_2 (Conv2D)            (None, 15, 15, 64)        18496     \n",
      "_________________________________________________________________\n",
      "conv2d_3 (Conv2D)            (None, 13, 13, 64)        36928     \n",
      "_________________________________________________________________\n",
      "max_pooling2d_1 (MaxPooling2 (None, 6, 6, 64)          0         \n",
      "_________________________________________________________________\n",
      "flatten (Flatten)            (None, 2304)              0         \n",
      "_________________________________________________________________\n",
      "dense (Dense)                (None, 512)               1180160   \n",
      "_________________________________________________________________\n",
      "dense_1 (Dense)              (None, 10)                5130      \n",
      "=================================================================\n",
      "Total params: 1,250,858\n",
      "Trainable params: 1,250,858\n",
      "Non-trainable params: 0\n",
      "_________________________________________________________________\n"
     ]
    }
   ],
   "source": [
    "# конфигурирование слоев нейросети\n",
    "model = Sequential()\n",
    "\n",
    "# слои нейросети отвественные за свертку и max-pooling\n",
    "model.add(Conv2D(32, (3, 3), activation='relu', padding='same', input_shape=X_train.shape[1:]))\n",
    "model.add(Conv2D(32, (3, 3), activation='relu'))\n",
    "model.add(MaxPooling2D(pool_size=(2, 2)))\n",
    "\n",
    "model.add(Conv2D(64, (3, 3), activation='relu', padding='same'))\n",
    "model.add(Conv2D(64, (3, 3), activation='relu'))\n",
    "model.add(MaxPooling2D(pool_size=(2, 2)))\n",
    "\n",
    "# полносвязные слои нейронной сети\n",
    "model.add(Flatten())\n",
    "model.add(Dense(512, activation='relu'))\n",
    "model.add(Dense(10, activation='softmax'))\n",
    "\n",
    "model.summary()\n",
    "# компиляция модели\n",
    "model.compile(loss='categorical_crossentropy',\n",
    "              optimizer='SGD',\n",
    "              metrics=['accuracy'])"
   ]
  },
  {
   "cell_type": "code",
   "execution_count": 7,
   "metadata": {},
   "outputs": [
    {
     "name": "stdout",
     "output_type": "stream",
     "text": [
      "Epoch 1/10\n",
      "98/98 [==============================] - 24s 241ms/step - loss: 2.3026 - accuracy: 0.0960 - val_loss: 2.2948 - val_accuracy: 0.1506\n",
      "Epoch 2/10\n",
      "98/98 [==============================] - 23s 238ms/step - loss: 2.2914 - accuracy: 0.1635 - val_loss: 2.2763 - val_accuracy: 0.1627\n",
      "Epoch 3/10\n",
      "98/98 [==============================] - 24s 247ms/step - loss: 2.2642 - accuracy: 0.1853 - val_loss: 2.2019 - val_accuracy: 0.2100\n",
      "Epoch 4/10\n",
      "98/98 [==============================] - 24s 248ms/step - loss: 2.1591 - accuracy: 0.2262 - val_loss: 2.1131 - val_accuracy: 0.2267\n",
      "Epoch 5/10\n",
      "98/98 [==============================] - 24s 244ms/step - loss: 2.0574 - accuracy: 0.2545 - val_loss: 1.9698 - val_accuracy: 0.3080\n",
      "Epoch 6/10\n",
      "98/98 [==============================] - 24s 241ms/step - loss: 1.9922 - accuracy: 0.2898 - val_loss: 1.9213 - val_accuracy: 0.3161\n",
      "Epoch 7/10\n",
      "98/98 [==============================] - 24s 248ms/step - loss: 1.9418 - accuracy: 0.3086 - val_loss: 1.8919 - val_accuracy: 0.3170\n",
      "Epoch 8/10\n",
      "98/98 [==============================] - 25s 252ms/step - loss: 1.8991 - accuracy: 0.3285 - val_loss: 1.8876 - val_accuracy: 0.3381\n",
      "Epoch 9/10\n",
      "98/98 [==============================] - 24s 248ms/step - loss: 1.8565 - accuracy: 0.3434 - val_loss: 1.8203 - val_accuracy: 0.3593\n",
      "Epoch 10/10\n",
      "98/98 [==============================] - 24s 243ms/step - loss: 1.8106 - accuracy: 0.3578 - val_loss: 1.7586 - val_accuracy: 0.3811\n"
     ]
    },
    {
     "data": {
      "text/plain": [
       "<tensorflow.python.keras.callbacks.History at 0x7f93cd9160a0>"
      ]
     },
     "execution_count": 7,
     "metadata": {},
     "output_type": "execute_result"
    }
   ],
   "source": [
    "model.fit(X_train, y_train,\n",
    "              batch_size=batch_size,\n",
    "              epochs=epochs,\n",
    "              validation_data=(X_test, y_test),\n",
    "              shuffle=True)"
   ]
  },
  {
   "cell_type": "code",
   "execution_count": 8,
   "metadata": {},
   "outputs": [
    {
     "name": "stdout",
     "output_type": "stream",
     "text": [
      "313/313 [==============================] - 1s 4ms/step - loss: 1.7586 - accuracy: 0.3811\n",
      "Test loss: 1.7585691213607788\n",
      "Test accuracy: 0.38109999895095825\n"
     ]
    }
   ],
   "source": [
    "# проверка работы обученной модели\n",
    "scores = model.evaluate(X_test, y_test, verbose=1)\n",
    "print('Test loss:', scores[0])\n",
    "print('Test accuracy:', scores[1])\n",
    "\n",
    "y_p = model.predict(X_test[N:N+1])\n",
    "y_t = np.argmax(y_test[N:N+1], axis = 1 )\n",
    "y_i = np.argmax(y_p, axis = 1 )\n",
    "\n",
    "new_row = {'Модель':'CNN базовая', 'Класс Train':classes[y_t[0]], 'Класс Test': classes[y_i[0]], \\\n",
    "           'Test loss':round(scores[0], 4), 'Test accuracy':round(scores[1], 4)}\n",
    "\n",
    "stats = stats.append(new_row, ignore_index=True)"
   ]
  },
  {
   "cell_type": "code",
   "execution_count": 9,
   "metadata": {},
   "outputs": [
    {
     "data": {
      "text/html": [
       "<div>\n",
       "<style scoped>\n",
       "    .dataframe tbody tr th:only-of-type {\n",
       "        vertical-align: middle;\n",
       "    }\n",
       "\n",
       "    .dataframe tbody tr th {\n",
       "        vertical-align: top;\n",
       "    }\n",
       "\n",
       "    .dataframe thead th {\n",
       "        text-align: right;\n",
       "    }\n",
       "</style>\n",
       "<table border=\"1\" class=\"dataframe\">\n",
       "  <thead>\n",
       "    <tr style=\"text-align: right;\">\n",
       "      <th></th>\n",
       "      <th>Модель</th>\n",
       "      <th>Класс Train</th>\n",
       "      <th>Класс Test</th>\n",
       "      <th>Test loss</th>\n",
       "      <th>Test accuracy</th>\n",
       "    </tr>\n",
       "  </thead>\n",
       "  <tbody>\n",
       "    <tr>\n",
       "      <th>0</th>\n",
       "      <td>CNN базовая</td>\n",
       "      <td>лошадь</td>\n",
       "      <td>олень</td>\n",
       "      <td>1.7586</td>\n",
       "      <td>0.3811</td>\n",
       "    </tr>\n",
       "  </tbody>\n",
       "</table>\n",
       "</div>"
      ],
      "text/plain": [
       "        Модель Класс Train Класс Test  Test loss  Test accuracy\n",
       "0  CNN базовая      лошадь      олень     1.7586         0.3811"
      ]
     },
     "execution_count": 9,
     "metadata": {},
     "output_type": "execute_result"
    }
   ],
   "source": [
    "stats"
   ]
  },
  {
   "cell_type": "markdown",
   "metadata": {},
   "source": [
    "### 2. Оценить рост точности при увеличении ширины сети (больше фильтров)"
   ]
  },
  {
   "cell_type": "code",
   "execution_count": 10,
   "metadata": {},
   "outputs": [
    {
     "name": "stdout",
     "output_type": "stream",
     "text": [
      "Model: \"sequential_1\"\n",
      "_________________________________________________________________\n",
      "Layer (type)                 Output Shape              Param #   \n",
      "=================================================================\n",
      "conv2d_4 (Conv2D)            (None, 32, 32, 32)        896       \n",
      "_________________________________________________________________\n",
      "conv2d_5 (Conv2D)            (None, 30, 30, 32)        9248      \n",
      "_________________________________________________________________\n",
      "max_pooling2d_2 (MaxPooling2 (None, 15, 15, 32)        0         \n",
      "_________________________________________________________________\n",
      "conv2d_6 (Conv2D)            (None, 15, 15, 128)       36992     \n",
      "_________________________________________________________________\n",
      "conv2d_7 (Conv2D)            (None, 13, 13, 128)       147584    \n",
      "_________________________________________________________________\n",
      "max_pooling2d_3 (MaxPooling2 (None, 6, 6, 128)         0         \n",
      "_________________________________________________________________\n",
      "flatten_1 (Flatten)          (None, 4608)              0         \n",
      "_________________________________________________________________\n",
      "dense_2 (Dense)              (None, 512)               2359808   \n",
      "_________________________________________________________________\n",
      "dense_3 (Dense)              (None, 10)                5130      \n",
      "=================================================================\n",
      "Total params: 2,559,658\n",
      "Trainable params: 2,559,658\n",
      "Non-trainable params: 0\n",
      "_________________________________________________________________\n"
     ]
    }
   ],
   "source": [
    "# конфигурирование слоев нейросети\n",
    "model1 = Sequential()\n",
    "\n",
    "# слои нейросети отвественные за свертку и max-pooling\n",
    "model1.add(Conv2D(32, (3, 3), activation='relu', padding='same', input_shape=X_train.shape[1:]))\n",
    "model1.add(Conv2D(32, (3, 3), activation='relu'))\n",
    "model1.add(MaxPooling2D(pool_size=(2, 2)))\n",
    "\n",
    "model1.add(Conv2D(128, (3, 3), activation='relu', padding='same'))\n",
    "model1.add(Conv2D(128, (3, 3), activation='relu'))\n",
    "model1.add(MaxPooling2D(pool_size=(2, 2)))\n",
    "\n",
    "# полносвязные слои нейронной сети\n",
    "model1.add(Flatten())\n",
    "model1.add(Dense(512, activation='relu'))\n",
    "model1.add(Dense(10, activation='softmax'))\n",
    "\n",
    "model1.summary()\n",
    "# компиляция модели\n",
    "model1.compile(loss='categorical_crossentropy',\n",
    "              optimizer='SGD',\n",
    "              metrics=['accuracy'])"
   ]
  },
  {
   "cell_type": "code",
   "execution_count": 11,
   "metadata": {},
   "outputs": [
    {
     "name": "stdout",
     "output_type": "stream",
     "text": [
      "Epoch 1/10\n",
      "98/98 [==============================] - 36s 366ms/step - loss: 2.2986 - accuracy: 0.1220 - val_loss: 2.2851 - val_accuracy: 0.1266\n",
      "Epoch 2/10\n",
      "98/98 [==============================] - 36s 367ms/step - loss: 2.2773 - accuracy: 0.1364 - val_loss: 2.2387 - val_accuracy: 0.2026\n",
      "Epoch 3/10\n",
      "98/98 [==============================] - 36s 367ms/step - loss: 2.2072 - accuracy: 0.2184 - val_loss: 2.0643 - val_accuracy: 0.2669\n",
      "Epoch 4/10\n",
      "98/98 [==============================] - 36s 365ms/step - loss: 2.0660 - accuracy: 0.2555 - val_loss: 1.9714 - val_accuracy: 0.3066\n",
      "Epoch 5/10\n",
      "98/98 [==============================] - 36s 366ms/step - loss: 1.9861 - accuracy: 0.2949 - val_loss: 1.9262 - val_accuracy: 0.3234\n",
      "Epoch 6/10\n",
      "98/98 [==============================] - 36s 362ms/step - loss: 1.9419 - accuracy: 0.3116 - val_loss: 1.8829 - val_accuracy: 0.3351\n",
      "Epoch 7/10\n",
      "98/98 [==============================] - 36s 363ms/step - loss: 1.8990 - accuracy: 0.3266 - val_loss: 1.8726 - val_accuracy: 0.3439\n",
      "Epoch 8/10\n",
      "98/98 [==============================] - 36s 364ms/step - loss: 1.8503 - accuracy: 0.3477 - val_loss: 1.8461 - val_accuracy: 0.3462\n",
      "Epoch 9/10\n",
      "98/98 [==============================] - 36s 365ms/step - loss: 1.8179 - accuracy: 0.3577 - val_loss: 1.7920 - val_accuracy: 0.3705\n",
      "Epoch 10/10\n",
      "98/98 [==============================] - 36s 365ms/step - loss: 1.8025 - accuracy: 0.3610 - val_loss: 1.7607 - val_accuracy: 0.3789\n"
     ]
    },
    {
     "data": {
      "text/plain": [
       "<tensorflow.python.keras.callbacks.History at 0x7f93680f3a00>"
      ]
     },
     "execution_count": 11,
     "metadata": {},
     "output_type": "execute_result"
    }
   ],
   "source": [
    "model1.fit(X_train, y_train,\n",
    "              batch_size=batch_size,\n",
    "              epochs=epochs,\n",
    "              validation_data=(X_test, y_test),\n",
    "              shuffle=True)"
   ]
  },
  {
   "cell_type": "code",
   "execution_count": 12,
   "metadata": {},
   "outputs": [
    {
     "name": "stdout",
     "output_type": "stream",
     "text": [
      "313/313 [==============================] - 2s 6ms/step - loss: 1.7607 - accuracy: 0.3789\n",
      "Test loss: 1.7606685161590576\n",
      "Test accuracy: 0.3788999915122986\n"
     ]
    }
   ],
   "source": [
    "# проверка работы обученной модели\n",
    "scores = model1.evaluate(X_test, y_test, verbose=1)\n",
    "print('Test loss:', scores[0])\n",
    "print('Test accuracy:', scores[1])\n",
    "\n",
    "y_p = model1.predict(X_test[N:N+1])\n",
    "y_t = np.argmax(y_test[N:N+1], axis = 1 )\n",
    "y_i = np.argmax(y_p, axis = 1 )\n",
    "\n",
    "new_row = {'Модель':'CNN c увеличением каналов', 'Класс Train':classes[y_t[0]], 'Класс Test': classes[y_i[0]], \\\n",
    "           'Test loss':round(scores[0], 4), 'Test accuracy':round(scores[1], 4)}\n",
    "\n",
    "stats = stats.append(new_row, ignore_index=True)"
   ]
  },
  {
   "cell_type": "code",
   "execution_count": 13,
   "metadata": {},
   "outputs": [
    {
     "data": {
      "text/html": [
       "<div>\n",
       "<style scoped>\n",
       "    .dataframe tbody tr th:only-of-type {\n",
       "        vertical-align: middle;\n",
       "    }\n",
       "\n",
       "    .dataframe tbody tr th {\n",
       "        vertical-align: top;\n",
       "    }\n",
       "\n",
       "    .dataframe thead th {\n",
       "        text-align: right;\n",
       "    }\n",
       "</style>\n",
       "<table border=\"1\" class=\"dataframe\">\n",
       "  <thead>\n",
       "    <tr style=\"text-align: right;\">\n",
       "      <th></th>\n",
       "      <th>Модель</th>\n",
       "      <th>Класс Train</th>\n",
       "      <th>Класс Test</th>\n",
       "      <th>Test loss</th>\n",
       "      <th>Test accuracy</th>\n",
       "    </tr>\n",
       "  </thead>\n",
       "  <tbody>\n",
       "    <tr>\n",
       "      <th>0</th>\n",
       "      <td>CNN базовая</td>\n",
       "      <td>лошадь</td>\n",
       "      <td>олень</td>\n",
       "      <td>1.7586</td>\n",
       "      <td>0.3811</td>\n",
       "    </tr>\n",
       "    <tr>\n",
       "      <th>1</th>\n",
       "      <td>CNN c увеличением каналов</td>\n",
       "      <td>лошадь</td>\n",
       "      <td>кот</td>\n",
       "      <td>1.7607</td>\n",
       "      <td>0.3789</td>\n",
       "    </tr>\n",
       "  </tbody>\n",
       "</table>\n",
       "</div>"
      ],
      "text/plain": [
       "                      Модель Класс Train Класс Test  Test loss  Test accuracy\n",
       "0                CNN базовая      лошадь      олень     1.7586         0.3811\n",
       "1  CNN c увеличением каналов      лошадь        кот     1.7607         0.3789"
      ]
     },
     "execution_count": 13,
     "metadata": {},
     "output_type": "execute_result"
    }
   ],
   "source": [
    "stats"
   ]
  },
  {
   "cell_type": "markdown",
   "metadata": {},
   "source": [
    "### 3. Оценить рост точности при увеличении глубины сети (больше слоев)"
   ]
  },
  {
   "cell_type": "code",
   "execution_count": 14,
   "metadata": {},
   "outputs": [
    {
     "name": "stdout",
     "output_type": "stream",
     "text": [
      "Model: \"sequential_2\"\n",
      "_________________________________________________________________\n",
      "Layer (type)                 Output Shape              Param #   \n",
      "=================================================================\n",
      "conv2d_8 (Conv2D)            (None, 32, 32, 32)        896       \n",
      "_________________________________________________________________\n",
      "conv2d_9 (Conv2D)            (None, 30, 30, 32)        9248      \n",
      "_________________________________________________________________\n",
      "max_pooling2d_4 (MaxPooling2 (None, 15, 15, 32)        0         \n",
      "_________________________________________________________________\n",
      "conv2d_10 (Conv2D)           (None, 15, 15, 64)        18496     \n",
      "_________________________________________________________________\n",
      "conv2d_11 (Conv2D)           (None, 13, 13, 64)        36928     \n",
      "_________________________________________________________________\n",
      "max_pooling2d_5 (MaxPooling2 (None, 6, 6, 64)          0         \n",
      "_________________________________________________________________\n",
      "conv2d_12 (Conv2D)           (None, 6, 6, 128)         73856     \n",
      "_________________________________________________________________\n",
      "conv2d_13 (Conv2D)           (None, 4, 4, 128)         147584    \n",
      "_________________________________________________________________\n",
      "max_pooling2d_6 (MaxPooling2 (None, 2, 2, 128)         0         \n",
      "_________________________________________________________________\n",
      "flatten_2 (Flatten)          (None, 512)               0         \n",
      "_________________________________________________________________\n",
      "dense_4 (Dense)              (None, 512)               262656    \n",
      "_________________________________________________________________\n",
      "dense_5 (Dense)              (None, 10)                5130      \n",
      "=================================================================\n",
      "Total params: 554,794\n",
      "Trainable params: 554,794\n",
      "Non-trainable params: 0\n",
      "_________________________________________________________________\n"
     ]
    }
   ],
   "source": [
    "# конфигурирование слоев нейросети\n",
    "model2 = Sequential()\n",
    "\n",
    "# слои нейросети отвественные за свертку и max-pooling\n",
    "model2.add(Conv2D(32, (3, 3), activation='relu', padding='same', input_shape=X_train.shape[1:]))\n",
    "model2.add(Conv2D(32, (3, 3), activation='relu'))\n",
    "model2.add(MaxPooling2D(pool_size=(2, 2)))\n",
    "\n",
    "model2.add(Conv2D(64, (3, 3), activation='relu', padding='same'))\n",
    "model2.add(Conv2D(64, (3, 3), activation='relu'))\n",
    "model2.add(MaxPooling2D(pool_size=(2, 2)))\n",
    "\n",
    "model2.add(Conv2D(128, (3, 3), activation='relu', padding='same'))\n",
    "model2.add(Conv2D(128, (3, 3), activation='relu'))\n",
    "model2.add(MaxPooling2D(pool_size=(2, 2)))\n",
    "\n",
    "# полносвязные слои нейронной сети\n",
    "model2.add(Flatten())\n",
    "model2.add(Dense(512, activation='relu'))\n",
    "model2.add(Dense(10, activation='softmax'))\n",
    "\n",
    "model2.summary()\n",
    "# компиляция модели\n",
    "model2.compile(loss='categorical_crossentropy',\n",
    "              optimizer='SGD',\n",
    "              metrics=['accuracy'])"
   ]
  },
  {
   "cell_type": "code",
   "execution_count": 15,
   "metadata": {},
   "outputs": [
    {
     "name": "stdout",
     "output_type": "stream",
     "text": [
      "Epoch 1/10\n",
      "98/98 [==============================] - 27s 272ms/step - loss: 2.3014 - accuracy: 0.1327 - val_loss: 2.2975 - val_accuracy: 0.1308\n",
      "Epoch 2/10\n",
      "98/98 [==============================] - 26s 269ms/step - loss: 2.2959 - accuracy: 0.1211 - val_loss: 2.2907 - val_accuracy: 0.1026\n",
      "Epoch 3/10\n",
      "98/98 [==============================] - 26s 270ms/step - loss: 2.2883 - accuracy: 0.1024 - val_loss: 2.2781 - val_accuracy: 0.1060\n",
      "Epoch 4/10\n",
      "98/98 [==============================] - 26s 269ms/step - loss: 2.2724 - accuracy: 0.1163 - val_loss: 2.2485 - val_accuracy: 0.1451\n",
      "Epoch 5/10\n",
      "98/98 [==============================] - 26s 270ms/step - loss: 2.2330 - accuracy: 0.1643 - val_loss: 2.1610 - val_accuracy: 0.2096\n",
      "Epoch 6/10\n",
      "98/98 [==============================] - 26s 270ms/step - loss: 2.1377 - accuracy: 0.2194 - val_loss: 2.0506 - val_accuracy: 0.2670\n",
      "Epoch 7/10\n",
      "98/98 [==============================] - 26s 270ms/step - loss: 2.0797 - accuracy: 0.2455 - val_loss: 2.1462 - val_accuracy: 0.2110\n",
      "Epoch 8/10\n",
      "98/98 [==============================] - 26s 270ms/step - loss: 2.0395 - accuracy: 0.2610 - val_loss: 1.9597 - val_accuracy: 0.2967\n",
      "Epoch 9/10\n",
      "98/98 [==============================] - 26s 270ms/step - loss: 1.9734 - accuracy: 0.2826 - val_loss: 1.9588 - val_accuracy: 0.2931\n",
      "Epoch 10/10\n",
      "98/98 [==============================] - 26s 270ms/step - loss: 1.9551 - accuracy: 0.2888 - val_loss: 1.8888 - val_accuracy: 0.3125\n"
     ]
    },
    {
     "data": {
      "text/plain": [
       "<tensorflow.python.keras.callbacks.History at 0x7f93606fe580>"
      ]
     },
     "execution_count": 15,
     "metadata": {},
     "output_type": "execute_result"
    }
   ],
   "source": [
    "model2.fit(X_train, y_train,\n",
    "              batch_size=batch_size,\n",
    "              epochs=epochs,\n",
    "              validation_data=(X_test, y_test),\n",
    "              shuffle=True)"
   ]
  },
  {
   "cell_type": "code",
   "execution_count": 16,
   "metadata": {},
   "outputs": [
    {
     "name": "stdout",
     "output_type": "stream",
     "text": [
      "313/313 [==============================] - 1s 5ms/step - loss: 1.8888 - accuracy: 0.3125\n",
      "Test loss: 1.8888089656829834\n",
      "Test accuracy: 0.3125\n"
     ]
    }
   ],
   "source": [
    "# проверка работы обученной модели\n",
    "scores = model2.evaluate(X_test, y_test, verbose=1)\n",
    "print('Test loss:', scores[0])\n",
    "print('Test accuracy:', scores[1])\n",
    "\n",
    "y_p = model2.predict(X_test[N:N+1])\n",
    "y_t = np.argmax(y_test[N:N+1], axis = 1 )\n",
    "y_i = np.argmax(y_p, axis = 1 )\n",
    "\n",
    "new_row = {'Модель':'CNN c увеличением слоев', 'Класс Train':classes[y_t[0]], 'Класс Test': classes[y_i[0]], \\\n",
    "           'Test loss':round(scores[0], 4), 'Test accuracy':round(scores[1], 4)}\n",
    "\n",
    "stats = stats.append(new_row, ignore_index=True)"
   ]
  },
  {
   "cell_type": "code",
   "execution_count": 17,
   "metadata": {},
   "outputs": [
    {
     "data": {
      "text/html": [
       "<div>\n",
       "<style scoped>\n",
       "    .dataframe tbody tr th:only-of-type {\n",
       "        vertical-align: middle;\n",
       "    }\n",
       "\n",
       "    .dataframe tbody tr th {\n",
       "        vertical-align: top;\n",
       "    }\n",
       "\n",
       "    .dataframe thead th {\n",
       "        text-align: right;\n",
       "    }\n",
       "</style>\n",
       "<table border=\"1\" class=\"dataframe\">\n",
       "  <thead>\n",
       "    <tr style=\"text-align: right;\">\n",
       "      <th></th>\n",
       "      <th>Модель</th>\n",
       "      <th>Класс Train</th>\n",
       "      <th>Класс Test</th>\n",
       "      <th>Test loss</th>\n",
       "      <th>Test accuracy</th>\n",
       "    </tr>\n",
       "  </thead>\n",
       "  <tbody>\n",
       "    <tr>\n",
       "      <th>0</th>\n",
       "      <td>CNN базовая</td>\n",
       "      <td>лошадь</td>\n",
       "      <td>олень</td>\n",
       "      <td>1.7586</td>\n",
       "      <td>0.3811</td>\n",
       "    </tr>\n",
       "    <tr>\n",
       "      <th>1</th>\n",
       "      <td>CNN c увеличением каналов</td>\n",
       "      <td>лошадь</td>\n",
       "      <td>кот</td>\n",
       "      <td>1.7607</td>\n",
       "      <td>0.3789</td>\n",
       "    </tr>\n",
       "    <tr>\n",
       "      <th>2</th>\n",
       "      <td>CNN c увеличением слоев</td>\n",
       "      <td>лошадь</td>\n",
       "      <td>лошадь</td>\n",
       "      <td>1.8888</td>\n",
       "      <td>0.3125</td>\n",
       "    </tr>\n",
       "  </tbody>\n",
       "</table>\n",
       "</div>"
      ],
      "text/plain": [
       "                      Модель Класс Train Класс Test  Test loss  Test accuracy\n",
       "0                CNN базовая      лошадь      олень     1.7586         0.3811\n",
       "1  CNN c увеличением каналов      лошадь        кот     1.7607         0.3789\n",
       "2    CNN c увеличением слоев      лошадь     лошадь     1.8888         0.3125"
      ]
     },
     "execution_count": 17,
     "metadata": {},
     "output_type": "execute_result"
    }
   ],
   "source": [
    "stats"
   ]
  },
  {
   "cell_type": "markdown",
   "metadata": {},
   "source": [
    "### 4.\\* сравнить с точностью полносвязной сети для этой выборки"
   ]
  },
  {
   "cell_type": "code",
   "execution_count": 18,
   "metadata": {},
   "outputs": [
    {
     "name": "stdout",
     "output_type": "stream",
     "text": [
      "Model: \"model\"\n",
      "_________________________________________________________________\n",
      "Layer (type)                 Output Shape              Param #   \n",
      "=================================================================\n",
      "input_1 (InputLayer)         [(None, 32, 32, 3)]       0         \n",
      "_________________________________________________________________\n",
      "flatten_3 (Flatten)          (None, 3072)              0         \n",
      "_________________________________________________________________\n",
      "dense_6 (Dense)              (None, 512)               1573376   \n",
      "_________________________________________________________________\n",
      "dense_7 (Dense)              (None, 256)               131328    \n",
      "_________________________________________________________________\n",
      "dense_8 (Dense)              (None, 128)               32896     \n",
      "_________________________________________________________________\n",
      "dense_9 (Dense)              (None, 32)                4128      \n",
      "_________________________________________________________________\n",
      "dense_10 (Dense)             (None, 10)                330       \n",
      "=================================================================\n",
      "Total params: 1,742,058\n",
      "Trainable params: 1,742,058\n",
      "Non-trainable params: 0\n",
      "_________________________________________________________________\n"
     ]
    }
   ],
   "source": [
    "inputs = Input(shape=(32, 32, 3))\n",
    "x = Flatten()(inputs)\n",
    "x_1 = Dense(512, activation='relu')(x)\n",
    "x_2 = Dense(256, activation='relu')(x_1)\n",
    "x_3 = Dense(128, activation='relu')(x_2)\n",
    "x_4 = Dense(32, activation='relu')(x_3)\n",
    "outputs = Dense(10)(x_4)\n",
    "    \n",
    "model3 = Model(inputs, outputs)\n",
    "model3.summary()\n",
    "\n",
    "model3.compile(loss='categorical_crossentropy',\n",
    "              optimizer='SGD',\n",
    "              metrics=['accuracy'])"
   ]
  },
  {
   "cell_type": "code",
   "execution_count": 19,
   "metadata": {},
   "outputs": [
    {
     "name": "stdout",
     "output_type": "stream",
     "text": [
      "Epoch 1/10\n",
      "98/98 [==============================] - 1s 12ms/step - loss: 8.6334 - accuracy: 0.1015 - val_loss: 11.2827 - val_accuracy: 0.1000\n",
      "Epoch 2/10\n",
      "98/98 [==============================] - 1s 11ms/step - loss: 11.2940 - accuracy: 0.0997 - val_loss: 11.2827 - val_accuracy: 0.1000\n",
      "Epoch 3/10\n",
      "98/98 [==============================] - 1s 11ms/step - loss: 11.2885 - accuracy: 0.1009 - val_loss: 11.2827 - val_accuracy: 0.1000\n",
      "Epoch 4/10\n",
      "98/98 [==============================] - 1s 11ms/step - loss: 11.3343 - accuracy: 0.0987 - val_loss: 11.2827 - val_accuracy: 0.1000\n",
      "Epoch 5/10\n",
      "98/98 [==============================] - 1s 11ms/step - loss: 11.2782 - accuracy: 0.0983 - val_loss: 11.2827 - val_accuracy: 0.1000\n",
      "Epoch 6/10\n",
      "98/98 [==============================] - 1s 11ms/step - loss: 11.2940 - accuracy: 0.0993 - val_loss: 11.2827 - val_accuracy: 0.1000\n",
      "Epoch 7/10\n",
      "98/98 [==============================] - 1s 11ms/step - loss: 11.3170 - accuracy: 0.0984 - val_loss: 11.2827 - val_accuracy: 0.1000\n",
      "Epoch 8/10\n",
      "98/98 [==============================] - 1s 11ms/step - loss: 11.2948 - accuracy: 0.1016 - val_loss: 11.2827 - val_accuracy: 0.1000\n",
      "Epoch 9/10\n",
      "98/98 [==============================] - 1s 11ms/step - loss: 11.3013 - accuracy: 0.0985 - val_loss: 11.2827 - val_accuracy: 0.1000\n",
      "Epoch 10/10\n",
      "98/98 [==============================] - 1s 11ms/step - loss: 11.2872 - accuracy: 0.1002 - val_loss: 11.2827 - val_accuracy: 0.1000\n"
     ]
    },
    {
     "data": {
      "text/plain": [
       "<tensorflow.python.keras.callbacks.History at 0x7f93d48cea60>"
      ]
     },
     "execution_count": 19,
     "metadata": {},
     "output_type": "execute_result"
    }
   ],
   "source": [
    "model3.fit(X_train, y_train,\n",
    "              batch_size=batch_size,\n",
    "              epochs=epochs,\n",
    "              validation_data=(X_test, y_test),\n",
    "              shuffle=True)"
   ]
  },
  {
   "cell_type": "code",
   "execution_count": 20,
   "metadata": {},
   "outputs": [
    {
     "name": "stdout",
     "output_type": "stream",
     "text": [
      "313/313 [==============================] - 0s 909us/step - loss: 11.2827 - accuracy: 0.1000\n",
      "Test loss: 11.282669067382812\n",
      "Test accuracy: 0.10000000149011612\n"
     ]
    }
   ],
   "source": [
    "# проверка работы обученной модели\n",
    "scores = model3.evaluate(X_test, y_test, verbose=1)\n",
    "print('Test loss:', scores[0])\n",
    "print('Test accuracy:', scores[1])\n",
    "\n",
    "y_p = model3.predict(X_test[N:N+1])\n",
    "y_t = np.argmax(y_test[N:N+1], axis = 1 )\n",
    "y_i = np.argmax(y_p, axis = 1 )\n",
    "\n",
    "new_row = {'Модель':'Полносвязная', 'Класс Train':classes[y_t[0]], 'Класс Test': classes[y_i[0]], \\\n",
    "           'Test loss':round(scores[0], 4), 'Test accuracy':round(scores[1], 4)}\n",
    "\n",
    "stats = stats.append(new_row, ignore_index=True)"
   ]
  },
  {
   "cell_type": "code",
   "execution_count": 21,
   "metadata": {},
   "outputs": [
    {
     "data": {
      "text/html": [
       "<div>\n",
       "<style scoped>\n",
       "    .dataframe tbody tr th:only-of-type {\n",
       "        vertical-align: middle;\n",
       "    }\n",
       "\n",
       "    .dataframe tbody tr th {\n",
       "        vertical-align: top;\n",
       "    }\n",
       "\n",
       "    .dataframe thead th {\n",
       "        text-align: right;\n",
       "    }\n",
       "</style>\n",
       "<table border=\"1\" class=\"dataframe\">\n",
       "  <thead>\n",
       "    <tr style=\"text-align: right;\">\n",
       "      <th></th>\n",
       "      <th>Модель</th>\n",
       "      <th>Класс Train</th>\n",
       "      <th>Класс Test</th>\n",
       "      <th>Test loss</th>\n",
       "      <th>Test accuracy</th>\n",
       "    </tr>\n",
       "  </thead>\n",
       "  <tbody>\n",
       "    <tr>\n",
       "      <th>0</th>\n",
       "      <td>CNN базовая</td>\n",
       "      <td>лошадь</td>\n",
       "      <td>олень</td>\n",
       "      <td>1.7586</td>\n",
       "      <td>0.3811</td>\n",
       "    </tr>\n",
       "    <tr>\n",
       "      <th>1</th>\n",
       "      <td>CNN c увеличением каналов</td>\n",
       "      <td>лошадь</td>\n",
       "      <td>кот</td>\n",
       "      <td>1.7607</td>\n",
       "      <td>0.3789</td>\n",
       "    </tr>\n",
       "    <tr>\n",
       "      <th>2</th>\n",
       "      <td>CNN c увеличением слоев</td>\n",
       "      <td>лошадь</td>\n",
       "      <td>лошадь</td>\n",
       "      <td>1.8888</td>\n",
       "      <td>0.3125</td>\n",
       "    </tr>\n",
       "    <tr>\n",
       "      <th>3</th>\n",
       "      <td>Полносвязная</td>\n",
       "      <td>лошадь</td>\n",
       "      <td>собака</td>\n",
       "      <td>11.2827</td>\n",
       "      <td>0.1000</td>\n",
       "    </tr>\n",
       "  </tbody>\n",
       "</table>\n",
       "</div>"
      ],
      "text/plain": [
       "                      Модель Класс Train Класс Test  Test loss  Test accuracy\n",
       "0                CNN базовая      лошадь      олень     1.7586         0.3811\n",
       "1  CNN c увеличением каналов      лошадь        кот     1.7607         0.3789\n",
       "2    CNN c увеличением слоев      лошадь     лошадь     1.8888         0.3125\n",
       "3               Полносвязная      лошадь     собака    11.2827         0.1000"
      ]
     },
     "execution_count": 21,
     "metadata": {},
     "output_type": "execute_result"
    }
   ],
   "source": [
    "stats"
   ]
  },
  {
   "cell_type": "markdown",
   "metadata": {},
   "source": [
    "**Вывод:**\n",
    "- самый лучший результат у модели CNN с большим количеством слоев. "
   ]
  },
  {
   "cell_type": "code",
   "execution_count": null,
   "metadata": {},
   "outputs": [],
   "source": []
  }
 ],
 "metadata": {
  "kernelspec": {
   "display_name": "Python 3",
   "language": "python",
   "name": "python3"
  },
  "language_info": {
   "codemirror_mode": {
    "name": "ipython",
    "version": 3
   },
   "file_extension": ".py",
   "mimetype": "text/x-python",
   "name": "python",
   "nbconvert_exporter": "python",
   "pygments_lexer": "ipython3",
   "version": "3.8.5"
  }
 },
 "nbformat": 4,
 "nbformat_minor": 4
}
